{
 "cells": [
  {
   "cell_type": "code",
   "execution_count": 1,
   "metadata": {},
   "outputs": [],
   "source": [
    "from __future__ import division\n",
    "import numpy as np\n",
    "import matplotlib.pyplot as plt\n",
    "%matplotlib inline\n",
    "import networkx as nx\n",
    "import time\n",
    "from numpy.linalg import eigvals\n",
    "import pickle\n",
    "\n",
    "from Consensus import *\n",
    "from dynamics import *"
   ]
  },
  {
   "cell_type": "code",
   "execution_count": 8,
   "metadata": {},
   "outputs": [],
   "source": [
    "def sim_ws(n_probs,N=100, av_degree =6):\n",
    "    Time = np.zeros(n_probs)\n",
    "    i=0\n",
    "    t1 = time.time()\n",
    "    for p in np.linspace(0,1,n_probs):\n",
    "        k = int(av_degree/2)\n",
    "        GWS = nx.watts_strogatz_graph(N, k, p, seed=None)\n",
    "        while(not nx.is_connected(GWS)):\n",
    "            GWS = nx.watts_strogatz_graph(N, k, p, seed=None)\n",
    "\n",
    "        L = nx.laplacian_matrix(GWS)\n",
    "        L=L.todense()\n",
    "\n",
    "        CS = Consensus_Simulation(GWS,distributed,L)\n",
    "        CS.run_sim()\n",
    "\n",
    "        Time[i] = CS.T[-1]\n",
    "        i=i+1\n",
    "    print(\"Iteration done!\")\n",
    "    t2 =time.time()\n",
    "    print(\"Iteration time: \",round(t2-t1,3), \" seconds\")\n",
    "    return Time"
   ]
  },
  {
   "cell_type": "code",
   "execution_count": 3,
   "metadata": {},
   "outputs": [],
   "source": [
    "def ws_fiedler(n_probs,N=100, av_degree =6):\n",
    "    F = np.zeros(n_probs)\n",
    "    i=0\n",
    "    t1 = time.time()\n",
    "    for p in np.linspace(0,1,n_probs):\n",
    "        k = int(av_degree/2)\n",
    "        GWS = nx.watts_strogatz_graph(N, k, p, seed=None)\n",
    "        while(not nx.is_connected(GWS)):\n",
    "            GWS = nx.watts_strogatz_graph(N, k, p, seed=None)\n",
    "\n",
    "        L = nx.laplacian_matrix(GWS)\n",
    "        L=L.todense()\n",
    "\n",
    "        v = eigvals(L)\n",
    "        v=np.delete(v,np.where(v==min(v)))\n",
    "        F[i]=min(v)\n",
    "        i=i+1\n",
    "    print(\"Iteration done!\")\n",
    "    t2 =time.time()\n",
    "    print(\"Iteration time: \",round(t2-t1,3), \" seconds\")\n",
    "    return F"
   ]
  },
  {
   "cell_type": "code",
   "execution_count": 4,
   "metadata": {},
   "outputs": [],
   "source": [
    "def sim_ws_rt(n_probs,N=100, av_degree =6):\n",
    "    Time = np.zeros(n_probs)\n",
    "    i=0\n",
    "    t1 = time.time()\n",
    "    for p in np.linspace(0.1,0.75,n_probs):\n",
    "        k = int(av_degree/2)\n",
    "        GWS = nx.watts_strogatz_graph(N, k, 1, seed=None)\n",
    "        while(not nx.is_connected(GWS)):\n",
    "            GWS = nx.watts_strogatz_graph(N, k, 1, seed=None)\n",
    "\n",
    "        L = nx.laplacian_matrix(GWS)\n",
    "        L=L.todense()\n",
    "\n",
    "        CS = Consensus_Simulation(GWS,distributed_random_topology,(GWS,p))\n",
    "        CS.run_sim()\n",
    "\n",
    "        Time[i] = CS.T[-1]\n",
    "        i=i+1\n",
    "    print(\"Iteration done!\")\n",
    "    t2 =time.time()\n",
    "    print(\"Iteration time: \",round(t2-t1,3), \" seconds\")\n",
    "    return Time"
   ]
  },
  {
   "cell_type": "code",
   "execution_count": 9,
   "metadata": {},
   "outputs": [],
   "source": [
    "def sim_er(n_probs,N=100):\n",
    "    Time = np.zeros(n_probs)\n",
    "    i=0\n",
    "    t1 = time.time()\n",
    "    for p in np.linspace(0.1,1,n_probs):\n",
    "        ER = nx.gnp_random_graph(N, p, seed=None)\n",
    "        while(not nx.is_connected(ER)):\n",
    "            ER = nx.gnp_random_graph(N, p, seed=None)\n",
    "        L = nx.laplacian_matrix(ER)\n",
    "        L=L.todense()\n",
    "\n",
    "        CS = Consensus_Simulation(ER,distributed,(L,1))\n",
    "        CS.run_sim()\n",
    "\n",
    "        Time[i] = CS.T[-1]\n",
    "        i=i+1\n",
    "    print(\"Iteration done!\")\n",
    "    t2 =time.time()\n",
    "    print(\"Iteration time: \",round(t2-t1,3), \" seconds\")\n",
    "    return Time"
   ]
  },
  {
   "cell_type": "code",
   "execution_count": 3,
   "metadata": {},
   "outputs": [
    {
     "name": "stdout",
     "output_type": "stream",
     "text": [
      "Iteration done!\n",
      "Iteration time:  303.27  seconds\n",
      "Iteration done!\n",
      "Iteration time:  319.736  seconds\n",
      "Iteration done!\n",
      "Iteration time:  258.615  seconds\n",
      "Iteration done!\n",
      "Iteration time:  258.767  seconds\n",
      "Iteration done!\n",
      "Iteration time:  248.925  seconds\n",
      "Iteration done!\n",
      "Iteration time:  296.003  seconds\n",
      "Iteration done!\n",
      "Iteration time:  286.541  seconds\n",
      "Iteration done!\n",
      "Iteration time:  287.481  seconds\n",
      "Iteration done!\n",
      "Iteration time:  289.067  seconds\n",
      "Iteration done!\n",
      "Iteration time:  261.866  seconds\n",
      "Iteration done!\n",
      "Iteration time:  278.313  seconds\n",
      "Iteration done!\n",
      "Iteration time:  236.472  seconds\n",
      "Iteration done!\n",
      "Iteration time:  278.195  seconds\n",
      "Iteration done!\n",
      "Iteration time:  291.125  seconds\n",
      "Iteration done!\n",
      "Iteration time:  287.547  seconds\n",
      "Iteration done!\n",
      "Iteration time:  264.569  seconds\n",
      "Iteration done!\n",
      "Iteration time:  273.954  seconds\n",
      "Iteration done!\n",
      "Iteration time:  267.357  seconds\n",
      "Iteration done!\n",
      "Iteration time:  295.424  seconds\n",
      "Iteration done!\n",
      "Iteration time:  279.563  seconds\n",
      "Iteration done!\n",
      "Iteration time:  269.509  seconds\n",
      "Iteration done!\n",
      "Iteration time:  258.311  seconds\n",
      "Iteration done!\n",
      "Iteration time:  266.985  seconds\n",
      "Iteration done!\n",
      "Iteration time:  276.221  seconds\n",
      "Iteration done!\n",
      "Iteration time:  310.3  seconds\n",
      "Iteration done!\n",
      "Iteration time:  257.78  seconds\n",
      "Iteration done!\n",
      "Iteration time:  307.781  seconds\n",
      "Iteration done!\n",
      "Iteration time:  270.775  seconds\n",
      "Iteration done!\n",
      "Iteration time:  277.623  seconds\n",
      "Iteration done!\n",
      "Iteration time:  316.84  seconds\n"
     ]
    },
    {
     "ename": "NameError",
     "evalue": "name 'N' is not defined",
     "output_type": "error",
     "traceback": [
      "\u001b[0;31m---------------------------------------------------------------------------\u001b[0m",
      "\u001b[0;31mNameError\u001b[0m                                 Traceback (most recent call last)",
      "\u001b[0;32m<ipython-input-3-2fa7829f38fc>\u001b[0m in \u001b[0;36m<module>\u001b[0;34m()\u001b[0m\n\u001b[1;32m      8\u001b[0m \u001b[0mplt\u001b[0m\u001b[0;34m.\u001b[0m\u001b[0mscatter\u001b[0m\u001b[0;34m(\u001b[0m\u001b[0mnp\u001b[0m\u001b[0;34m.\u001b[0m\u001b[0mlinspace\u001b[0m\u001b[0;34m(\u001b[0m\u001b[0;36m0\u001b[0m\u001b[0;34m,\u001b[0m\u001b[0;36m1\u001b[0m\u001b[0;34m,\u001b[0m\u001b[0mlen\u001b[0m\u001b[0;34m(\u001b[0m\u001b[0mTime\u001b[0m\u001b[0;34m[\u001b[0m\u001b[0;36m0\u001b[0m\u001b[0;34m]\u001b[0m\u001b[0;34m)\u001b[0m\u001b[0;34m)\u001b[0m\u001b[0;34m,\u001b[0m\u001b[0mnp\u001b[0m\u001b[0;34m.\u001b[0m\u001b[0mmean\u001b[0m\u001b[0;34m(\u001b[0m\u001b[0mTime\u001b[0m\u001b[0;34m,\u001b[0m\u001b[0maxis\u001b[0m\u001b[0;34m=\u001b[0m\u001b[0;36m0\u001b[0m\u001b[0;34m)\u001b[0m\u001b[0;34m)\u001b[0m\u001b[0;34m\u001b[0m\u001b[0m\n\u001b[1;32m      9\u001b[0m \u001b[0mplt\u001b[0m\u001b[0;34m.\u001b[0m\u001b[0mylabel\u001b[0m\u001b[0;34m(\u001b[0m\u001b[0;34m\"Simulation Time (seconds)\"\u001b[0m\u001b[0;34m)\u001b[0m\u001b[0;34m\u001b[0m\u001b[0m\n\u001b[0;32m---> 10\u001b[0;31m \u001b[0mplt\u001b[0m\u001b[0;34m.\u001b[0m\u001b[0mxlabel\u001b[0m\u001b[0;34m(\u001b[0m\u001b[0;34m\"p: for Watts-Strogatz model (p,{0},{1})\"\u001b[0m\u001b[0;34m.\u001b[0m\u001b[0mformat\u001b[0m\u001b[0;34m(\u001b[0m\u001b[0mN\u001b[0m\u001b[0;34m,\u001b[0m\u001b[0mk\u001b[0m\u001b[0;34m)\u001b[0m\u001b[0;34m)\u001b[0m\u001b[0;34m\u001b[0m\u001b[0m\n\u001b[0m\u001b[1;32m     11\u001b[0m \u001b[0mplt\u001b[0m\u001b[0;34m.\u001b[0m\u001b[0mtitle\u001b[0m\u001b[0;34m(\u001b[0m\u001b[0;34m\"Time to reach Consensus for a Watts-Strogatz topology \\n with re-wire probability p, averaged of {0} simulations\"\u001b[0m\u001b[0;34m.\u001b[0m\u001b[0mformat\u001b[0m\u001b[0;34m(\u001b[0m\u001b[0mn_iterations\u001b[0m\u001b[0;34m)\u001b[0m\u001b[0;34m)\u001b[0m\u001b[0;34m\u001b[0m\u001b[0m\n\u001b[1;32m     12\u001b[0m \u001b[0mplt\u001b[0m\u001b[0;34m.\u001b[0m\u001b[0mgrid\u001b[0m\u001b[0;34m(\u001b[0m\u001b[0;34m)\u001b[0m\u001b[0;34m\u001b[0m\u001b[0m\n",
      "\u001b[0;31mNameError\u001b[0m: name 'N' is not defined"
     ]
    },
    {
     "data": {
      "image/png": "[encoded data removed]",
      "text/plain": [
       "<Figure size 432x288 with 1 Axes>"
      ]
     },
     "metadata": {},
     "output_type": "display_data"
    }
   ],
   "source": [
    "n_iterations=30\n",
    "n_probs=30\n",
    "Time = np.zeros((n_iterations,n_probs))\n",
    "for i in range(0,n_iterations):\n",
    "    Time[i,:] = sim(n_probs)"
   ]
  },
  {
   "cell_type": "code",
   "execution_count": 10,
   "metadata": {},
   "outputs": [
    {
     "data": {
      "image/png": "[encoded data removed]",
      "text/plain": [
       "<Figure size 432x288 with 1 Axes>"
      ]
     },
     "metadata": {},
     "output_type": "display_data"
    }
   ],
   "source": [
    "plt.scatter(np.linspace(0,1,len(Time[0])),np.mean(Time,axis=0))\n",
    "plt.plot(np.linspace(0,1,len(Time[0])),np.mean(Time,axis=0))\n",
    "plt.ylabel(\"Simulation Time (seconds)\")\n",
    "plt.xlabel(\"p: for Watts-Strogatz model (p,{0},{1})\".format(100,3))\n",
    "plt.title(\"Time to reach Consensus for a Watts-Strogatz topology \\n with re-wire probability p, average of {0} simulations\".format(n_iterations))\n",
    "plt.grid()\n",
    "\n",
    "plt.savefig(\"WS-Consensus time\",bbpx_inches='tight')"
   ]
  },
  {
   "cell_type": "code",
   "execution_count": 15,
   "metadata": {},
   "outputs": [],
   "source": [
    "import pickle\n",
    "Results_ws_30 = {\"Time\":Time, \"Prob\": np.linspace(0,1,len(Time[0]))}\n",
    "pickle.dump(Results_ws_30, open(\"ws_30\",\"wb\"))"
   ]
  },
  {
   "cell_type": "code",
   "execution_count": 43,
   "metadata": {},
   "outputs": [
    {
     "data": {
      "text/plain": [
       "array([[12.78732514, 13.56634116, 19.24592113, 15.77626586, 19.69585705,\n",
       "        18.06884813, 18.43975425, 14.52188587, 10.56291938,  8.46362066,\n",
       "         4.43223667,  9.10691476,  6.95434952,  8.02074838, 13.6048336 ,\n",
       "         6.94989347,  8.30785322,  9.97251725,  7.08159828,  7.09461761,\n",
       "         8.46956134,  4.62225008,  9.190207  ,  5.80669475,  7.8220551 ,\n",
       "         7.35926723,  6.59870148,  6.69757199,  6.43408799,  7.41771507],\n",
       "       [14.75333977, 49.14637566, 18.5076158 , 11.79770923, 16.58614445,\n",
       "        15.71043324, 16.20955324,  7.40252209,  7.65353656, 10.84225154,\n",
       "         3.85603046,  6.82673597,  7.3347249 , 13.39796519,  6.49146795,\n",
       "        19.51155186, 10.11587405, 11.11545825, 10.41643405,  9.04098296,\n",
       "         6.02188134,  6.86664581,  4.20683265,  5.5795877 ,  4.68949652,\n",
       "        10.47758436,  3.9490664 ,  3.81768346,  4.90076399,  2.26342344],\n",
       "       [12.1964097 , 32.69556022, 20.03116369,  9.15706944,  8.77603436,\n",
       "         5.79624701,  9.41029   , 11.01684475, 10.05700684,  9.0945828 ,\n",
       "        10.18981719, 11.23005319,  4.79185009,  6.14211488, 10.01548409,\n",
       "         7.39556313,  4.81539178,  3.10440588,  6.14708972,  7.61739826,\n",
       "         6.61982584,  7.0183928 ,  4.84960651, 10.60576558,  6.12183642,\n",
       "         3.8296504 ,  4.6025908 ,  5.3774147 ,  5.4493618 ,  4.26342988],\n",
       "       [11.75840378, 14.97987795, 17.66573453,  7.70353746, 23.30360532,\n",
       "        18.46477962,  7.51597691, 10.11604905,  8.26156473,  4.62299895,\n",
       "         8.39746428,  3.02431273,  8.22290015,  7.84388494,  5.52570081,\n",
       "         9.54469848,  7.02422738,  7.31147814,  8.37385321,  6.47302318,\n",
       "        12.23473239,  4.356987  ,  5.43966651,  6.72385311,  6.25357318,\n",
       "         5.45960689,  5.7797215 ,  6.64501786,  5.22536325,  4.32948875],\n",
       "       [11.88537359, 27.84316969, 13.04647088,  9.86566901, 11.14951348,\n",
       "         9.26617622,  6.12648988,  9.38517618,  7.16588378,  8.19678664,\n",
       "         8.92996669,  7.05177402,  9.23617101,  7.80537486,  5.89675713,\n",
       "         3.75164008,  4.02612638,  6.8752315 ,  9.20962238, 11.14994478,\n",
       "         5.01727366,  6.47381282,  8.74089098,  6.1883173 ,  7.09863114,\n",
       "         8.57900167,  3.85749435,  5.26259422,  2.83644843,  6.80217862],\n",
       "       [11.81814647, 31.69841886, 30.30937815, 18.6627357 ,  6.88627315,\n",
       "         7.3508327 , 11.37928772, 21.87039232,  7.44610143,  9.69341326,\n",
       "         6.25198984,  9.00196862,  8.95386386,  4.33488846,  5.60662293,\n",
       "        10.75697064,  8.56972504,  3.57994008,  5.80085325,  5.02057838,\n",
       "         8.37328672,  7.87874174,  6.43377233,  5.67641711,  6.09929705,\n",
       "         7.06228328,  3.39059424,  7.01690865, 14.81551957,  4.03572512],\n",
       "       [11.80211139, 11.90057635, 19.15678859, 19.81287861, 11.62951326,\n",
       "        14.11371374, 13.38046122, 13.89471769,  8.14946866,  9.3955965 ,\n",
       "         8.4119544 ,  7.22459984,  9.76993275,  3.72544599,  5.25736165,\n",
       "         8.05853748,  5.81750417,  5.84898281,  7.82595801,  7.6516633 ,\n",
       "         7.74904156, 10.0859251 ,  6.82830977, 10.33238268,  5.7185061 ,\n",
       "         8.6051271 ,  9.750103  , 10.59353328, 10.0579195 ,  3.79324961],\n",
       "       [12.15872908, 37.35411263, 20.5822711 ,  9.65175962, 27.2428937 ,\n",
       "         7.32788062,  8.68477893,  5.80812979,  7.6266818 ,  4.91899753,\n",
       "         4.21930647,  3.4220624 ,  6.48214626, 15.19318509,  3.75418663,\n",
       "         6.69113493, 14.12275004,  7.39842987,  7.24111509, 10.14385653,\n",
       "        10.69405317,  9.31390119,  7.48723125,  5.60677004, 10.05145574,\n",
       "         6.26435089,  6.22711396,  4.45981145,  3.17101383,  3.97544003],\n",
       "       [11.71319103, 11.72291803, 26.99025679, 23.44132257, 14.06799412,\n",
       "        12.7216754 , 13.71050191, 11.12001538,  8.00820875,  5.95151091,\n",
       "         7.18106055, 16.33632207,  8.86869788,  5.02994895,  7.25918269,\n",
       "         7.58981872, 13.3793788 ,  9.44096136,  5.23287916,  7.04231143,\n",
       "         6.01982903, 10.78451324, 10.81246758,  2.36422205,  6.03241181,\n",
       "         6.58593416,  6.13385773,  3.28971577,  6.39971519,  3.63350844],\n",
       "       [11.76763892, 10.58234239, 12.17955852, 17.02641129, 11.41482329,\n",
       "         8.11553907, 14.25449467, 13.05077124,  6.29590869,  9.57996941,\n",
       "        12.25633311,  6.64352536,  7.27130222,  9.07506108, 10.32862949,\n",
       "         4.58109593,  5.37187028, 10.00879216,  9.40351486,  7.56675744,\n",
       "         6.76395345,  5.55585766,  6.88146186,  4.81396294,  8.24830079,\n",
       "         6.47114801, 10.1063621 ,  5.02723837,  4.33839417,  6.68491459],\n",
       "       [11.78076077, 26.18510318, 19.06895232,  5.94054985, 14.98661423,\n",
       "        14.2892487 ,  8.28848028, 10.335428  ,  7.5154047 ,  9.92475843,\n",
       "        12.47563243,  2.58244777, 12.13392472,  8.54395795, 11.11042786,\n",
       "         4.93588805,  7.39949059,  9.38031602,  7.21615434, 10.41205335,\n",
       "         4.54331899,  8.54116416,  4.82660508, 10.26338482,  6.20501637,\n",
       "         5.68691254,  3.19907141,  6.24624348,  7.12020159,  6.96438265],\n",
       "       [11.85646963, 10.05352759, 14.9990983 , 20.179811  ,  8.85171866,\n",
       "         6.31167698, 12.54409981, 11.25355339,  5.22595477,  4.48633218,\n",
       "         4.52949762,  9.34914541,  8.355551  ,  8.71263313,  6.46713853,\n",
       "         8.4721086 ,  6.40455413,  5.78552961,  5.12990046,  8.49196506,\n",
       "         2.38853359,  4.40977216,  2.87718129, 10.75045419,  8.03803587,\n",
       "         4.3111825 ,  5.87521648,  7.82178211,  6.00488853,  6.32428718],\n",
       "       [11.89973187, 37.06094909, 12.03302813,  6.55817199, 14.11555886,\n",
       "        15.28246093,  6.57886386,  8.62052488,  8.24341941, 15.67379141,\n",
       "        11.44636464, 11.0882237 ,  8.422611  ,  7.76247811,  8.92471743,\n",
       "         5.72150731,  8.09221196,  3.99589157,  6.48249006,  8.88535786,\n",
       "         5.51668859,  6.65500498,  7.38489079,  4.38791823,  5.7001729 ,\n",
       "         2.51869845,  4.09187937, 11.75354481,  5.71406126,  7.3791163 ],\n",
       "       [12.00383329, 18.62858725, 18.61300063, 20.64102554,  8.43552613,\n",
       "        12.89010978, 14.82201886, 15.23514009,  7.22232032,  9.1575284 ,\n",
       "        17.59511304, 11.13389468,  8.38660884,  7.02971101, 10.00969982,\n",
       "         5.5467546 ,  9.83791161,  6.45572186,  9.30901051,  4.04251885,\n",
       "         7.17219305, 12.00069356,  7.67789006,  8.84541464,  4.23442435,\n",
       "         5.11823511,  3.98474145,  5.07665586,  3.15922856,  6.66298628],\n",
       "       [11.75561643, 24.53893018, 21.48862934, 18.94911885,  4.00686479,\n",
       "        14.92685342, 15.08835745,  6.96369767,  7.17383289,  8.51113105,\n",
       "        10.80361414, 13.04351854,  5.52914071,  7.27064776,  5.75181413,\n",
       "         8.08011913,  9.02878189,  7.0644083 ,  4.68188   ,  7.99511504,\n",
       "        10.37029243,  4.41170049,  9.34564757,  6.0548799 ,  9.08876634,\n",
       "         7.82414389,  6.64324784,  9.00381207,  8.34668112,  3.58675122],\n",
       "       [11.71320534, 20.75854611, 30.93176103,  7.2192893 , 10.6208787 ,\n",
       "         7.04721308, 14.7381773 ,  8.48461318,  9.20592856,  7.18341446,\n",
       "         6.63499856,  8.76884198, 14.36227012,  6.67104983,  5.05651808,\n",
       "         8.70760131,  9.67253065,  3.47574282,  3.19204903, 10.81222296,\n",
       "         5.39686942,  7.0647397 ,  5.28809452,  5.43300009,  8.69539785,\n",
       "         6.50593352,  5.65940356,  5.06041479,  5.09115052,  4.90149784],\n",
       "       [11.68514657, 15.13353181,  8.47081375, 14.04669118, 14.28739452,\n",
       "        14.02463603, 16.13687062,  6.74842238,  8.23826885, 20.35401177,\n",
       "        11.84948111,  9.74451542,  2.9467423 ,  7.75049996,  6.5944953 ,\n",
       "        12.17060709,  8.51927376,  7.08818483,  6.56675696,  6.44766474,\n",
       "         8.8178277 ,  4.06796217,  7.42464089,  8.53624749,  5.72382998,\n",
       "         6.51401567,  8.8304491 ,  3.94955254,  5.32849288,  5.6996305 ],\n",
       "       [11.59559274, 25.39880252,  8.88011813, 19.45852733, 14.92415619,\n",
       "        16.32419062, 10.56724167,  5.30688596,  8.75296402,  9.40400815,\n",
       "         7.07248235,  4.35044956,  5.87365246,  8.07742214,  3.62980008,\n",
       "        14.72086382,  5.6443224 ,  9.42471457, 12.10246062,  5.69518328,\n",
       "         5.39245272,  3.62639952,  5.80328393,  3.04683232,  7.61380386,\n",
       "         3.18898082,  4.61639309,  9.09754419,  9.36086631,  8.21833205],\n",
       "       [11.84952354, 22.184865  , 21.80515718, 11.38938522, 25.01930737,\n",
       "        26.22127676,  9.68888021, 10.56815958,  9.13167191, 10.59875822,\n",
       "        10.70990419,  7.93658423, 11.28905439, 10.19269061, 10.00853062,\n",
       "         3.50637484,  4.34548545,  6.41609311,  5.52779174,  8.16483617,\n",
       "         8.2096467 ,  4.30601764,  6.00127339,  8.55098081,  3.90972137,\n",
       "         6.5849123 ,  3.50785708,  3.69031858,  7.9385066 ,  5.97702718],\n",
       "       [11.6953721 , 15.31251836, 18.89164233,  9.84264374, 12.85792065,\n",
       "        11.02121162, 12.21735859, 10.93186331, 10.50387216,  8.19669342,\n",
       "         9.2406075 ,  7.90433669, 14.74991322, 10.42668033,  4.70365119,\n",
       "        10.0898459 ,  6.82072282, 13.42447591,  6.78867984,  7.81625128,\n",
       "         8.91167903,  4.13909316, 10.2369523 ,  7.52902579,  7.35105515,\n",
       "         4.19460297,  4.85874319, 10.59135103,  4.61457396,  3.5022285 ],\n",
       "       [11.72771168,  9.48913527, 34.5816052 ,  9.74655223,  9.65935302,\n",
       "        15.47069263,  7.83524799,  6.82608318, 10.12645555,  6.05687904,\n",
       "         4.8149724 ,  7.02198553, 14.4877615 , 10.68888807,  4.09841537,\n",
       "         5.14798975, 10.02131891,  5.51537633,  5.24124408,  9.58493662,\n",
       "         9.02723455,  5.19568062, 10.36828566,  6.45558524,  8.3781333 ,\n",
       "         4.37346983,  5.80267525,  5.98886728, 11.49742651,  4.08558583],\n",
       "       [11.7480824 , 18.39014411, 18.42512536, 10.7735908 ,  4.928756  ,\n",
       "        12.52563572, 10.11540341, 10.0491364 ,  6.76426291, 11.70859718,\n",
       "        16.5402844 ,  8.03062749,  4.16020989,  6.79428506,  5.5123117 ,\n",
       "         8.13303161, 10.20137239,  8.12229061,  4.12109351,  4.78577209,\n",
       "         7.34817719,  6.49755764,  8.77342963,  6.87536097,  4.35245061,\n",
       "         4.42474675, 10.74986005,  6.21590757,  5.28621602,  5.72458792],\n",
       "       [11.94701338, 35.35298729, 16.15621066, 21.2003417 ,  8.12851524,\n",
       "        15.5305028 ,  7.26114511,  7.46489358,  9.47722721,  8.76147032,\n",
       "         5.01658726,  4.63956094,  5.98489857,  7.36646414,  6.74728823,\n",
       "         5.27505469,  7.44130182,  8.25824881,  7.29918647,  7.22706413,\n",
       "         6.36250567,  6.26170254, 11.89937377,  7.23237205,  5.34431219,\n",
       "         6.2354219 ,  5.59595561,  4.31596279,  2.6092844 ,  4.35986924],\n",
       "       [11.71083689, 11.80969739, 25.38039351,  7.1153686 , 13.31240344,\n",
       "        10.58491778, 20.8893404 ,  4.12391305, 15.36629915,  6.67096734,\n",
       "        12.89845037,  7.03970742,  4.83587313, 13.14115524,  3.46490002,\n",
       "         6.26784706, 10.93875647,  7.26678276,  7.40772605,  3.21223879,\n",
       "         9.2094779 ,  9.65368342,  7.66968131,  3.76388311,  7.98622155,\n",
       "        11.88782716,  4.89336824,  4.15305138,  5.20721602,  8.15844655],\n",
       "       [11.91826153, 24.09145522, 13.22567844, 36.32009172, 20.55555677,\n",
       "        14.46480584,  8.7097075 , 10.00442076, 13.71226978,  7.94623899,\n",
       "        10.44626379,  3.76078916,  9.97745562,  9.94460678,  8.66391873,\n",
       "         6.77834034,  7.06872225,  8.06610632,  3.48069787, 12.63086152,\n",
       "         2.80183434,  9.92808557,  6.34176612,  4.59849429,  8.17975545,\n",
       "         9.09814906,  5.05446029, 10.51746416,  4.49098778,  7.32707214],\n",
       "       [11.90515113, 11.77027678, 25.71862864, 18.23532581, 12.18912101,\n",
       "        11.34784126, 12.09586716, 10.6450243 ,  4.85168195, 13.38836432,\n",
       "        13.14435101,  6.04918242, 10.11098433,  4.93442607,  7.2595675 ,\n",
       "         3.95509076,  4.6875608 ,  3.34872961,  5.12351918,  5.27657819,\n",
       "         7.77316356,  5.78164124,  3.38839197,  7.09380078,  6.24419069,\n",
       "         3.73397779,  4.29555988,  8.53263426,  5.88013625,  8.78842139],\n",
       "       [11.80932784, 33.35869455, 12.77854776, 15.65397525, 15.09754276,\n",
       "        12.54547715, 11.9871521 , 16.75387764, 16.42776036, 17.46379542,\n",
       "         2.97426796, 12.53811288,  9.20149398,  8.7272737 , 10.69758368,\n",
       "         7.84200573, 10.74463677,  7.15215397,  9.76586986,  7.29728246,\n",
       "         5.46393728,  6.11966538,  8.8993392 ,  5.30869031,  7.36268663,\n",
       "         3.84469104,  8.60003018,  3.53451848,  5.44965315,  2.15660501],\n",
       "       [11.84754705, 18.54088306, 22.81259704, 24.29774523, 10.98005915,\n",
       "         7.58584356,  7.83697248, 15.34013629,  8.33133841,  6.55564046,\n",
       "        10.68963265,  6.66715169,  6.18862176,  7.26555562,  9.93009233,\n",
       "         5.85315537,  8.19226456,  5.10462213, 10.36573553, 10.07045889,\n",
       "         8.10572624,  7.10362625,  2.9771111 ,  3.7921555 ,  6.26886654,\n",
       "         3.12125659,  4.62806678,  5.89732599,  8.52965641,  5.70092249],\n",
       "       [11.74835348, 27.20778251,  7.93860579, 20.47397923,  8.98051143,\n",
       "        14.8161118 , 10.408499  , 14.1355722 ,  9.93603516, 11.25942206,\n",
       "         4.84934616,  7.98817945,  7.59967399,  8.85715103,  8.70765162,\n",
       "         7.55375314,  6.05070043,  6.64163399,  7.28446341, 12.97339988,\n",
       "         8.53556657,  4.02982712,  3.5289259 ,  7.89067173,  8.65468359,\n",
       "         2.95869112,  5.46776748,  5.22969222, 10.44522786,  5.26992345],\n",
       "       [11.86567068, 23.33341384,  6.93159008, 24.5902226 , 18.20942974,\n",
       "        20.30404377,  9.62871122,  8.75237918, 11.13080215,  8.03458095,\n",
       "         7.24101782, 14.84321642,  5.19408917, 13.13547778,  8.80250978,\n",
       "        13.0886848 ,  8.31597137, 15.95505452,  5.75441217,  8.2907474 ,\n",
       "         8.05162334,  5.44189143, 12.24664211, 11.50500107,  5.81842685,\n",
       "         8.15257192,  7.85738111,  3.84257889,  5.92864108,  4.35611892]])"
      ]
     },
     "execution_count": 43,
     "metadata": {},
     "output_type": "execute_result"
    }
   ],
   "source": [
    "D['Time']"
   ]
  },
  {
   "cell_type": "code",
   "execution_count": 54,
   "metadata": {},
   "outputs": [],
   "source": [
    "D = pickle.load(open(\"./Data/ws_30\",\"rb\"))\n",
    "t = np.mean(D['Time'],axis=0)\n",
    "b,w = np.where(t==min(t)),np.where(t==max(t))\n",
    "b,w = D['Prob'][b], D['Prob'][w]"
   ]
  },
  {
   "cell_type": "code",
   "execution_count": 56,
   "metadata": {},
   "outputs": [
    {
     "data": {
      "text/plain": [
       "array([0.03448276])"
      ]
     },
     "execution_count": 56,
     "metadata": {},
     "output_type": "execute_result"
    }
   ],
   "source": [
    "w"
   ]
  },
  {
   "cell_type": "code",
   "execution_count": 96,
   "metadata": {},
   "outputs": [
    {
     "data": {
      "image/png": "[encoded data removed]",
      "text/plain": [
       "<Figure size 432x288 with 1 Axes>"
      ]
     },
     "metadata": {},
     "output_type": "display_data"
    }
   ],
   "source": [
    "def degree_distribution(G):\n",
    "    vk = dict(G.degree())\n",
    "    vk = list(vk.values()) # we get only the degree values\n",
    "    maxk = np.max(vk)\n",
    "    mink = np.min(min)\n",
    "    kvalues= np.arange(0,maxk+1) # possible values of k\n",
    "    Pk = np.zeros(maxk+1) # P(k)\n",
    "    for k in vk:\n",
    "        Pk[k] = Pk[k] + 1\n",
    "    Pk = Pk/sum(Pk) # the sum of the elements of P(k) must to be equal to one\n",
    "    return kvalues,Pk\n",
    "\n",
    "GWS_b = nx.watts_strogatz_graph(100, 3, best, seed=None)\n",
    "GWS_w = nx.watts_strogatz_graph(100, 3, worst, seed=None)\n",
    "\n",
    "for G in ([GWS_b,GWS_w]):\n",
    "    ks, Pk = degree_distribution(G)\n",
    "    plt.plot(ks, Pk)\n",
    "    plt.xlabel(\"k\", fontsize=20)\n",
    "    plt.ylabel(\"P(k)\", fontsize=20)\n",
    "    plt.title(\"Degree distribution\", fontsize=20)\n",
    "    plt.grid(True)\n",
    "plt.show()"
   ]
  },
  {
   "cell_type": "code",
   "execution_count": 130,
   "metadata": {},
   "outputs": [
    {
     "name": "stdout",
     "output_type": "stream",
     "text": [
      "Iteration done!\n",
      "Iteration time:  0.74  seconds\n",
      "Iteration done!\n",
      "Iteration time:  0.748  seconds\n",
      "Iteration done!\n",
      "Iteration time:  0.765  seconds\n",
      "Iteration done!\n",
      "Iteration time:  0.738  seconds\n",
      "Iteration done!\n",
      "Iteration time:  0.744  seconds\n",
      "Iteration done!\n",
      "Iteration time:  0.743  seconds\n",
      "Iteration done!\n",
      "Iteration time:  0.732  seconds\n",
      "Iteration done!\n",
      "Iteration time:  0.737  seconds\n",
      "Iteration done!\n",
      "Iteration time:  0.736  seconds\n",
      "Iteration done!\n",
      "Iteration time:  0.746  seconds\n",
      "Iteration done!\n",
      "Iteration time:  0.782  seconds\n",
      "Iteration done!\n",
      "Iteration time:  0.744  seconds\n",
      "Iteration done!\n",
      "Iteration time:  0.748  seconds\n",
      "Iteration done!\n",
      "Iteration time:  0.785  seconds\n",
      "Iteration done!\n",
      "Iteration time:  0.756  seconds\n",
      "Iteration done!\n",
      "Iteration time:  0.806  seconds\n",
      "Iteration done!\n",
      "Iteration time:  0.758  seconds\n",
      "Iteration done!\n",
      "Iteration time:  0.748  seconds\n",
      "Iteration done!\n",
      "Iteration time:  0.745  seconds\n",
      "Iteration done!\n",
      "Iteration time:  0.75  seconds\n",
      "Iteration done!\n",
      "Iteration time:  0.783  seconds\n",
      "Iteration done!\n",
      "Iteration time:  0.741  seconds\n",
      "Iteration done!\n",
      "Iteration time:  0.733  seconds\n",
      "Iteration done!\n",
      "Iteration time:  0.735  seconds\n",
      "Iteration done!\n",
      "Iteration time:  0.744  seconds\n",
      "Iteration done!\n",
      "Iteration time:  0.74  seconds\n",
      "Iteration done!\n",
      "Iteration time:  0.743  seconds\n",
      "Iteration done!\n",
      "Iteration time:  0.74  seconds\n",
      "Iteration done!\n",
      "Iteration time:  0.74  seconds\n",
      "Iteration done!\n",
      "Iteration time:  0.735  seconds\n"
     ]
    }
   ],
   "source": [
    "def ws_cl(n_probs,N=100, av_degree =6):\n",
    "    L = np.zeros(n_probs)\n",
    "    C = np.zeros(n_probs)\n",
    "    i=0\n",
    "    t1 = time.time()\n",
    "    for p in np.linspace(0,1,n_probs):\n",
    "        k = int(av_degree/2)\n",
    "        GWS = nx.watts_strogatz_graph(N, k, p, seed=None)\n",
    "        while(not nx.is_connected(GWS)):\n",
    "            GWS = nx.watts_strogatz_graph(N, k, p, seed=None)\n",
    "        \n",
    "        c = nx.average_clustering(GWS)\n",
    "        l = nx.average_shortest_path_length(GWS)\n",
    "\n",
    "        C[i] = c\n",
    "        L[i] = l\n",
    "        i=i+1\n",
    "    print(\"Iteration done!\")\n",
    "    t2 =time.time()\n",
    "    print(\"Iteration time: \",round(t2-t1,3), \" seconds\")\n",
    "    return C,L\n",
    "\n",
    "n_iterations=30\n",
    "n_probs=30\n",
    "X = np.zeros((n_iterations,n_probs))\n",
    "Y = np.zeros((n_iterations,n_probs))\n",
    "for i in range(0,n_iterations):\n",
    "    X[i],Y[i] = ws_cl(n_probs)"
   ]
  },
  {
   "cell_type": "code",
   "execution_count": 138,
   "metadata": {},
   "outputs": [
    {
     "data": {
      "image/png": "[encoded data removed]",
      "text/plain": [
       "<Figure size 432x288 with 1 Axes>"
      ]
     },
     "metadata": {},
     "output_type": "display_data"
    }
   ],
   "source": [
    "x = np.linspace(0,1,n_probs)\n",
    "plt.plot(x,np.mean(Y,axis=0))\n",
    "plt.ylabel(\"Aerage shortest path length\")\n",
    "plt.xlabel(\"p: for Watts-Strogatz model (p,{0},{1})\".format(100,3))\n",
    "plt.title(\"Watts-Strogatz model shortes path length \\n with re-wire probability p, average of {0} simulations\".format(n_iterations))\n",
    "plt.grid()\n",
    "\n",
    "plt.savefig(\"WS shortest path\",bbpx_inches='tight')"
   ]
  },
  {
   "cell_type": "code",
   "execution_count": 134,
   "metadata": {},
   "outputs": [
    {
     "data": {
      "text/plain": [
       "array([25.25252525, 18.94545455, 26.18565657, 20.78464646, 15.32464646,\n",
       "       15.36020202, 15.02989899, 12.89373737, 17.28383838, 16.10949495,\n",
       "       16.86787879, 14.09353535, 10.5820202 , 15.10525253, 11.86161616,\n",
       "       11.29111111, 13.28262626,  9.33353535, 10.12525253, 11.31313131,\n",
       "        9.53414141,  9.75515152, 10.3569697 , 10.76020202, 10.8820202 ,\n",
       "       14.18989899, 11.65212121, 10.08363636,  9.16707071, 10.40909091])"
      ]
     },
     "execution_count": 134,
     "metadata": {},
     "output_type": "execute_result"
    }
   ],
   "source": [
    "Y[0]"
   ]
  },
  {
   "cell_type": "code",
   "execution_count": 10,
   "metadata": {},
   "outputs": [
    {
     "name": "stdout",
     "output_type": "stream",
     "text": [
      "Iteration done!\n",
      "Iteration time:  0.724  seconds\n",
      "Iteration done!\n",
      "Iteration time:  0.632  seconds\n",
      "Iteration done!\n",
      "Iteration time:  0.669  seconds\n",
      "Iteration done!\n",
      "Iteration time:  0.61  seconds\n",
      "Iteration done!\n",
      "Iteration time:  0.615  seconds\n",
      "Iteration done!\n",
      "Iteration time:  0.71  seconds\n",
      "Iteration done!\n",
      "Iteration time:  0.67  seconds\n",
      "Iteration done!\n",
      "Iteration time:  0.664  seconds\n",
      "Iteration done!\n",
      "Iteration time:  0.619  seconds\n",
      "Iteration done!\n",
      "Iteration time:  0.706  seconds\n",
      "Iteration done!\n",
      "Iteration time:  0.667  seconds\n",
      "Iteration done!\n",
      "Iteration time:  0.733  seconds\n",
      "Iteration done!\n",
      "Iteration time:  0.668  seconds\n",
      "Iteration done!\n",
      "Iteration time:  0.648  seconds\n",
      "Iteration done!\n",
      "Iteration time:  0.632  seconds\n",
      "Iteration done!\n",
      "Iteration time:  0.662  seconds\n",
      "Iteration done!\n",
      "Iteration time:  0.64  seconds\n",
      "Iteration done!\n",
      "Iteration time:  0.716  seconds\n",
      "Iteration done!\n",
      "Iteration time:  0.633  seconds\n",
      "Iteration done!\n",
      "Iteration time:  0.838  seconds\n",
      "Iteration done!\n",
      "Iteration time:  0.702  seconds\n",
      "Iteration done!\n",
      "Iteration time:  0.707  seconds\n",
      "Iteration done!\n",
      "Iteration time:  0.704  seconds\n",
      "Iteration done!\n",
      "Iteration time:  0.973  seconds\n",
      "Iteration done!\n",
      "Iteration time:  0.721  seconds\n",
      "Iteration done!\n",
      "Iteration time:  0.846  seconds\n",
      "Iteration done!\n",
      "Iteration time:  0.808  seconds\n",
      "Iteration done!\n",
      "Iteration time:  0.815  seconds\n",
      "Iteration done!\n",
      "Iteration time:  0.725  seconds\n",
      "Iteration done!\n",
      "Iteration time:  0.744  seconds\n"
     ]
    }
   ],
   "source": [
    "n_iterations=30\n",
    "n_probs=30\n",
    "Time = np.zeros((n_iterations,n_probs))\n",
    "for i in range(0,n_iterations):\n",
    "    Time[i,:] = sim_er(n_probs)"
   ]
  },
  {
   "cell_type": "code",
   "execution_count": 11,
   "metadata": {},
   "outputs": [
    {
     "data": {
      "image/png": "[encoded data removed]",
      "text/plain": [
       "<Figure size 432x288 with 1 Axes>"
      ]
     },
     "metadata": {},
     "output_type": "display_data"
    }
   ],
   "source": [
    "plt.scatter(np.linspace(0.1,1,len(Time[0])),np.mean(Time,axis=0))\n",
    "plt.plot(np.linspace(0.1,1,len(Time[0])),np.mean(Time,axis=0))\n",
    "plt.ylabel(\"Simulation Time (seconds)\")\n",
    "plt.xlabel(\"p: Erdos-Renyi model (p,{0})\".format(100))\n",
    "plt.title(\"Time to reach Consensus for a Erdos Renyi topology \\n with re-wire probability p, average of {0} simulations\".format(n_iterations))\n",
    "plt.grid()\n",
    "\n",
    "plt.savefig(\"ER-Consensus time\",bbpx_inches='tight')\n",
    "\n",
    "Results_er_30 = {\"Time\":Time, \"Prob\": np.linspace(0.1,1,len(Time[0]))}\n",
    "pickle.dump(Results_er_30, open(\"er_30\",\"wb\"))"
   ]
  },
  {
   "cell_type": "code",
   "execution_count": 60,
   "metadata": {},
   "outputs": [
    {
     "name": "stdout",
     "output_type": "stream",
     "text": [
      "Iteration done!\n",
      "Iteration time:  164.24  seconds\n",
      "Iteration done!\n",
      "Iteration time:  157.294  seconds\n",
      "Iteration done!\n",
      "Iteration time:  156.813  seconds\n",
      "Iteration done!\n",
      "Iteration time:  156.842  seconds\n",
      "Iteration done!\n",
      "Iteration time:  155.736  seconds\n",
      "Iteration done!\n",
      "Iteration time:  155.649  seconds\n",
      "Iteration done!\n",
      "Iteration time:  155.401  seconds\n",
      "Iteration done!\n",
      "Iteration time:  156.427  seconds\n",
      "Iteration done!\n",
      "Iteration time:  156.274  seconds\n",
      "Iteration done!\n",
      "Iteration time:  155.424  seconds\n",
      "Iteration done!\n",
      "Iteration time:  155.509  seconds\n",
      "Iteration done!\n",
      "Iteration time:  155.982  seconds\n",
      "Iteration done!\n",
      "Iteration time:  155.713  seconds\n",
      "Iteration done!\n",
      "Iteration time:  156.134  seconds\n",
      "Iteration done!\n",
      "Iteration time:  156.208  seconds\n",
      "Iteration done!\n",
      "Iteration time:  155.732  seconds\n",
      "Iteration done!\n",
      "Iteration time:  155.984  seconds\n",
      "Iteration done!\n",
      "Iteration time:  155.763  seconds\n",
      "Iteration done!\n",
      "Iteration time:  156.101  seconds\n",
      "Iteration done!\n",
      "Iteration time:  155.231  seconds\n",
      "Iteration done!\n",
      "Iteration time:  155.897  seconds\n",
      "Iteration done!\n",
      "Iteration time:  155.271  seconds\n",
      "Iteration done!\n",
      "Iteration time:  156.633  seconds\n",
      "Iteration done!\n",
      "Iteration time:  156.892  seconds\n",
      "Iteration done!\n",
      "Iteration time:  155.606  seconds\n",
      "Iteration done!\n",
      "Iteration time:  156.425  seconds\n",
      "Iteration done!\n",
      "Iteration time:  155.926  seconds\n",
      "Iteration done!\n",
      "Iteration time:  156.203  seconds\n",
      "Iteration done!\n",
      "Iteration time:  157.694  seconds\n",
      "Iteration done!\n",
      "Iteration time:  156.588  seconds\n"
     ]
    }
   ],
   "source": [
    "n_iterations=30\n",
    "n_probs=30\n",
    "Time = np.zeros((n_iterations,n_probs))\n",
    "for i in range(0,n_iterations):\n",
    "    Time[i,:] = sim_ws_rt(n_probs)"
   ]
  },
  {
   "cell_type": "code",
   "execution_count": 67,
   "metadata": {},
   "outputs": [
    {
     "data": {
      "image/png": "[encoded data removed]",
      "text/plain": [
       "<Figure size 432x288 with 1 Axes>"
      ]
     },
     "metadata": {},
     "output_type": "display_data"
    }
   ],
   "source": [
    "plt.scatter(np.linspace(0.1,0.75,len(Time[0])),np.mean(Time,axis=0))\n",
    "plt.plot(np.linspace(0.1,0.75,len(Time[0])),np.mean(Time,axis=0))\n",
    "plt.ylabel(\"Simulation Time (seconds)\")\n",
    "plt.xlabel(\"Re-wire attempt proportion\")\n",
    "plt.title(\"Time to reach Consensus for a dynamic topology \\n with re-wiring at each time-step, average of {0} simulations\".format(n_iterations))\n",
    "plt.grid()\n",
    "\n",
    "\n",
    "plt.savefig(\"rt ws Consensus time\",bbpx_inches='tight')\n",
    "\n",
    "Results_ws_30_rt = {\"Time\":Time, \"Prob\": np.linspace(0.1,0.75,len(Time[0]))}\n",
    "pickle.dump(Results_ws_30_rt, open(\"ws_30_rt\",\"wb\"))"
   ]
  },
  {
   "cell_type": "code",
   "execution_count": 13,
   "metadata": {},
   "outputs": [
    {
     "name": "stderr",
     "output_type": "stream",
     "text": [
      "/usr/local/lib/python3.5/dist-packages/ipykernel_launcher.py:16: ComplexWarning: Casting complex values to real discards the imaginary part\n",
      "  app.launch_new_instance()\n"
     ]
    },
    {
     "name": "stdout",
     "output_type": "stream",
     "text": [
      "Iteration done!\n",
      "Iteration time:  0.427  seconds\n",
      "Iteration done!\n",
      "Iteration time:  0.426  seconds\n",
      "Iteration done!\n",
      "Iteration time:  0.442  seconds\n",
      "Iteration done!\n",
      "Iteration time:  0.392  seconds\n",
      "Iteration done!\n",
      "Iteration time:  0.399  seconds\n",
      "Iteration done!\n",
      "Iteration time:  0.4  seconds\n",
      "Iteration done!\n",
      "Iteration time:  0.41  seconds\n",
      "Iteration done!\n",
      "Iteration time:  0.447  seconds\n",
      "Iteration done!\n",
      "Iteration time:  0.436  seconds\n",
      "Iteration done!\n",
      "Iteration time:  0.43  seconds\n",
      "Iteration done!\n",
      "Iteration time:  0.422  seconds\n",
      "Iteration done!\n",
      "Iteration time:  0.397  seconds\n",
      "Iteration done!\n",
      "Iteration time:  0.416  seconds\n",
      "Iteration done!\n",
      "Iteration time:  0.4  seconds\n",
      "Iteration done!\n",
      "Iteration time:  0.406  seconds\n",
      "Iteration done!\n",
      "Iteration time:  0.525  seconds\n",
      "Iteration done!\n",
      "Iteration time:  0.416  seconds\n",
      "Iteration done!\n",
      "Iteration time:  0.57  seconds\n",
      "Iteration done!\n",
      "Iteration time:  0.393  seconds\n",
      "Iteration done!\n",
      "Iteration time:  0.436  seconds\n",
      "Iteration done!\n",
      "Iteration time:  0.472  seconds\n",
      "Iteration done!\n",
      "Iteration time:  0.42  seconds\n",
      "Iteration done!\n",
      "Iteration time:  0.392  seconds\n",
      "Iteration done!\n",
      "Iteration time:  0.428  seconds\n",
      "Iteration done!\n",
      "Iteration time:  0.471  seconds\n",
      "Iteration done!\n",
      "Iteration time:  0.422  seconds\n",
      "Iteration done!\n",
      "Iteration time:  0.427  seconds\n",
      "Iteration done!\n",
      "Iteration time:  0.486  seconds\n",
      "Iteration done!\n",
      "Iteration time:  0.442  seconds\n",
      "Iteration done!\n",
      "Iteration time:  0.533  seconds\n"
     ]
    }
   ],
   "source": [
    "n_iterations=30\n",
    "n_probs=30\n",
    "F = np.zeros((n_iterations,n_probs))\n",
    "for i in range(0,n_iterations):\n",
    "    F[i,:] = ws_fiedler(n_probs)"
   ]
  },
  {
   "cell_type": "code",
   "execution_count": 17,
   "metadata": {},
   "outputs": [
    {
     "data": {
      "image/png": "[encoded data removed]",
      "text/plain": [
       "<Figure size 432x288 with 1 Axes>"
      ]
     },
     "metadata": {},
     "output_type": "display_data"
    }
   ],
   "source": [
    "plt.scatter(np.linspace(0,1,len(F[0])),np.mean(F,axis=0))\n",
    "plt.plot(np.linspace(0,1,len(F[0])),np.mean(F,axis=0))\n",
    "plt.ylabel(\"Fiedler Number of graph Laplacian\")\n",
    "plt.xlabel(\"p: for Watts-Strogatz model (p,{0},{1})\".format(100,3))\n",
    "plt.title(\"Fiedler number for a Watts-Strogatz topology \\n with re-wire probability p, average of {0} simulations\".format(n_iterations))\n",
    "plt.grid()\n",
    "plt.ylim(0,0.007)\n",
    "\n",
    "plt.savefig(\"ws Consensus fiedler\",bbpx_inches='tight')\n",
    "\n",
    "Results_ws_f = {\"fiedler\":F, \"Prob\": np.linspace(0,1,len(Time[0]))}\n",
    "pickle.dump(Results_ws_f, open(\"ws_30_f\",\"wb\"))"
   ]
  },
  {
   "cell_type": "code",
   "execution_count": null,
   "metadata": {},
   "outputs": [],
   "source": []
  }
 ],
 "metadata": {
  "kernelspec": {
   "display_name": "Python 3",
   "language": "python",
   "name": "python3"
  },
  "language_info": {
   "codemirror_mode": {
    "name": "ipython",
    "version": 3
   },
   "file_extension": ".py",
   "mimetype": "text/x-python",
   "name": "python",
   "nbconvert_exporter": "python",
   "pygments_lexer": "ipython3",
   "version": "3.5.2"
  }
 },
 "nbformat": 4,
 "nbformat_minor": 2
}
