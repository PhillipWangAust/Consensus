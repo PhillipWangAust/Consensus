{
 "cells": [
  {
   "cell_type": "code",
   "execution_count": 13,
   "metadata": {},
   "outputs": [],
   "source": [
    "import os\n",
    "os.chdir(\"../\")\n",
    "import numpy as np\n",
    "import matplotlib.pyplot as plt\n",
    "%matplotlib inline\n",
    "import networkx as nx\n",
    "import time\n",
    "from numpy.linalg import eigvals, norm\n",
    "import pickle\n",
    "\n",
    "from graph_utils import *"
   ]
  },
  {
   "cell_type": "code",
   "execution_count": 14,
   "metadata": {},
   "outputs": [
    {
     "data": {
      "image/png": "[encoded data removed]",
      "text/plain": [
       "<Figure size 144x144 with 1 Axes>"
      ]
     },
     "metadata": {},
     "output_type": "display_data"
    }
   ],
   "source": [
    "G = nx.gnp_random_graph(10,0.75)\n",
    "p = draw_graph(G,fig_size=2)"
   ]
  },
  {
   "cell_type": "code",
   "execution_count": 15,
   "metadata": {},
   "outputs": [
    {
     "data": {
      "image/png": "[encoded data removed]",
      "text/plain": [
       "<Figure size 144x144 with 1 Axes>"
      ]
     },
     "metadata": {},
     "output_type": "display_data"
    }
   ],
   "source": [
    "K = nx.complete_graph(len(G))\n",
    "p=draw_graph(K,fig_size=2)"
   ]
  },
  {
   "cell_type": "code",
   "execution_count": 16,
   "metadata": {},
   "outputs": [
    {
     "data": {
      "text/plain": [
       "(10, 45)"
      ]
     },
     "execution_count": 16,
     "metadata": {},
     "output_type": "execute_result"
    }
   ],
   "source": [
    "BK = nx.incidence_matrix(K, oriented=True).todense()\n",
    "BK.shape"
   ]
  },
  {
   "cell_type": "code",
   "execution_count": 17,
   "metadata": {},
   "outputs": [
    {
     "data": {
      "text/plain": [
       "(20, 90)"
      ]
     },
     "execution_count": 17,
     "metadata": {},
     "output_type": "execute_result"
    }
   ],
   "source": [
    "np.kron(BK,np.eye(2)).shape"
   ]
  },
  {
   "cell_type": "code",
   "execution_count": 18,
   "metadata": {},
   "outputs": [
    {
     "data": {
      "text/plain": [
       "array([[1.]])"
      ]
     },
     "execution_count": 18,
     "metadata": {},
     "output_type": "execute_result"
    }
   ],
   "source": [
    "np.eye(1)"
   ]
  },
  {
   "cell_type": "code",
   "execution_count": 19,
   "metadata": {},
   "outputs": [
    {
     "data": {
      "text/plain": [
       "(0, 5)"
      ]
     },
     "execution_count": 19,
     "metadata": {},
     "output_type": "execute_result"
    },
    {
     "data": {
      "image/png": "[encoded data removed]",
      "text/plain": [
       "<Figure size 432x288 with 1 Axes>"
      ]
     },
     "metadata": {},
     "output_type": "display_data"
    }
   ],
   "source": [
    "x_max = y_max = 5\n",
    "positions = np.zeros((len(G)*2))\n",
    "velocities = np.zeros((len(G)*2))\n",
    "i=0\n",
    "while(i<len(G)*2):\n",
    "    positions[i],positions[i+1] = y_max*np.random.rand(2)\n",
    "    i= i+2\n",
    "    \n",
    "i=0\n",
    "while(i<len(G)*2):\n",
    "    velocities[i],velocities[i+1] = 5*np.random.rand(2)\n",
    "    i= i+2\n",
    "    \n",
    "i=0\n",
    "while i < len(G)*2:\n",
    "    plt.scatter(positions[i],positions[i+1])\n",
    "    i = i+2\n",
    "plt.grid()\n",
    "plt.xlim(0,x_max)\n",
    "plt.ylim(0,y_max)"
   ]
  },
  {
   "cell_type": "code",
   "execution_count": 20,
   "metadata": {},
   "outputs": [
    {
     "data": {
      "text/plain": [
       "(1, 20)"
      ]
     },
     "execution_count": 20,
     "metadata": {},
     "output_type": "execute_result"
    }
   ],
   "source": [
    "positions = positions.reshape(1,20)\n",
    "velocities = velocities.reshape(1,20)\n",
    "positions.shape"
   ]
  },
  {
   "cell_type": "code",
   "execution_count": 17,
   "metadata": {},
   "outputs": [],
   "source": [
    "def S_graph_pos(positions,R=3):\n",
    "    S = nx.Graph()\n",
    "    if (positions.shape[1] != 2): \n",
    "        size = (int(positions.shape[1]/2),2)\n",
    "    else:\n",
    "        size = positions.shape\n",
    "    for i,r1 in enumerate(positions.reshape(size)):\n",
    "        for j,r2 in enumerate(positions.reshape(size)):\n",
    "            if (sum(r1 == r2) < 2 and norm(r1-r2)<R):\n",
    "                S.add_edge(i,j)\n",
    "            else:\n",
    "                S.add_node(i)\n",
    "    return S"
   ]
  },
  {
   "cell_type": "code",
   "execution_count": 18,
   "metadata": {},
   "outputs": [],
   "source": [
    "def S_graph_rel(re,n,R=3):\n",
    "    S = nx.Graph()\n",
    "    size = (int(re.shape[1]/2),2)\n",
    "    for i in range(0,n):\n",
    "        S.add_node(i)\n",
    "    j=-1\n",
    "    for i, x in enumerate(re.reshape(size)):\n",
    "        if (i % 9 == 0):\n",
    "            j=j+1\n",
    "        if (norm(x)<R):\n",
    "            print(j)\n",
    "            S.add_edge(j,i%9)\n",
    "            \n",
    "    return S"
   ]
  },
  {
   "cell_type": "code",
   "execution_count": 19,
   "metadata": {},
   "outputs": [
    {
     "ename": "NameError",
     "evalue": "name 'R' is not defined",
     "output_type": "error",
     "traceback": [
      "\u001b[0;31m---------------------------------------------------------------------------\u001b[0m",
      "\u001b[0;31mNameError\u001b[0m                                 Traceback (most recent call last)",
      "\u001b[0;32m<ipython-input-19-50dc45dfd42f>\u001b[0m in \u001b[0;36m<module>\u001b[0;34m()\u001b[0m\n\u001b[0;32m----> 1\u001b[0;31m \u001b[0mR\u001b[0m\u001b[0;34m.\u001b[0m\u001b[0mreshape\u001b[0m\u001b[0;34m(\u001b[0m\u001b[0;34m(\u001b[0m\u001b[0;36m45\u001b[0m\u001b[0;34m,\u001b[0m\u001b[0;36m2\u001b[0m\u001b[0;34m)\u001b[0m\u001b[0;34m)\u001b[0m\u001b[0;34m\u001b[0m\u001b[0m\n\u001b[0m",
      "\u001b[0;31mNameError\u001b[0m: name 'R' is not defined"
     ]
    }
   ],
   "source": [
    "R.reshape((45,2))"
   ]
  },
  {
   "cell_type": "code",
   "execution_count": 20,
   "metadata": {},
   "outputs": [
    {
     "ename": "IndexError",
     "evalue": "tuple index out of range",
     "output_type": "error",
     "traceback": [
      "\u001b[0;31m---------------------------------------------------------------------------\u001b[0m",
      "\u001b[0;31mIndexError\u001b[0m                                Traceback (most recent call last)",
      "\u001b[0;32m<ipython-input-20-6cce3d5f6e09>\u001b[0m in \u001b[0;36m<module>\u001b[0;34m()\u001b[0m\n\u001b[0;32m----> 1\u001b[0;31m \u001b[0mS\u001b[0m \u001b[0;34m=\u001b[0m \u001b[0mS_graph_pos\u001b[0m\u001b[0;34m(\u001b[0m\u001b[0mpositions\u001b[0m\u001b[0;34m,\u001b[0m\u001b[0;36m3\u001b[0m\u001b[0;34m)\u001b[0m\u001b[0;34m\u001b[0m\u001b[0m\n\u001b[0m\u001b[1;32m      2\u001b[0m \u001b[0;34m\u001b[0m\u001b[0m\n\u001b[1;32m      3\u001b[0m \u001b[0mp\u001b[0m\u001b[0;34m=\u001b[0m\u001b[0mdraw_graph\u001b[0m\u001b[0;34m(\u001b[0m\u001b[0mS\u001b[0m\u001b[0;34m,\u001b[0m\u001b[0mfig_size\u001b[0m\u001b[0;34m=\u001b[0m\u001b[0;36m4\u001b[0m\u001b[0;34m,\u001b[0m \u001b[0mlabels\u001b[0m\u001b[0;34m=\u001b[0m\u001b[0;32mTrue\u001b[0m\u001b[0;34m)\u001b[0m\u001b[0;34m\u001b[0m\u001b[0m\n",
      "\u001b[0;32m<ipython-input-17-a9dff1abd391>\u001b[0m in \u001b[0;36mS_graph_pos\u001b[0;34m(positions, R)\u001b[0m\n\u001b[1;32m      1\u001b[0m \u001b[0;32mdef\u001b[0m \u001b[0mS_graph_pos\u001b[0m\u001b[0;34m(\u001b[0m\u001b[0mpositions\u001b[0m\u001b[0;34m,\u001b[0m\u001b[0mR\u001b[0m\u001b[0;34m=\u001b[0m\u001b[0;36m3\u001b[0m\u001b[0;34m)\u001b[0m\u001b[0;34m:\u001b[0m\u001b[0;34m\u001b[0m\u001b[0m\n\u001b[1;32m      2\u001b[0m     \u001b[0mS\u001b[0m \u001b[0;34m=\u001b[0m \u001b[0mnx\u001b[0m\u001b[0;34m.\u001b[0m\u001b[0mGraph\u001b[0m\u001b[0;34m(\u001b[0m\u001b[0;34m)\u001b[0m\u001b[0;34m\u001b[0m\u001b[0m\n\u001b[0;32m----> 3\u001b[0;31m     \u001b[0;32mif\u001b[0m \u001b[0;34m(\u001b[0m\u001b[0mpositions\u001b[0m\u001b[0;34m.\u001b[0m\u001b[0mshape\u001b[0m\u001b[0;34m[\u001b[0m\u001b[0;36m1\u001b[0m\u001b[0;34m]\u001b[0m \u001b[0;34m!=\u001b[0m \u001b[0;36m2\u001b[0m\u001b[0;34m)\u001b[0m\u001b[0;34m:\u001b[0m\u001b[0;34m\u001b[0m\u001b[0m\n\u001b[0m\u001b[1;32m      4\u001b[0m         \u001b[0msize\u001b[0m \u001b[0;34m=\u001b[0m \u001b[0;34m(\u001b[0m\u001b[0mint\u001b[0m\u001b[0;34m(\u001b[0m\u001b[0mpositions\u001b[0m\u001b[0;34m.\u001b[0m\u001b[0mshape\u001b[0m\u001b[0;34m[\u001b[0m\u001b[0;36m1\u001b[0m\u001b[0;34m]\u001b[0m\u001b[0;34m/\u001b[0m\u001b[0;36m2\u001b[0m\u001b[0;34m)\u001b[0m\u001b[0;34m,\u001b[0m\u001b[0;36m2\u001b[0m\u001b[0;34m)\u001b[0m\u001b[0;34m\u001b[0m\u001b[0m\n\u001b[1;32m      5\u001b[0m     \u001b[0;32melse\u001b[0m\u001b[0;34m:\u001b[0m\u001b[0;34m\u001b[0m\u001b[0m\n",
      "\u001b[0;31mIndexError\u001b[0m: tuple index out of range"
     ]
    }
   ],
   "source": [
    "S = S_graph_pos(positions,3)\n",
    "            \n",
    "p=draw_graph(S,fig_size=4, labels=True)"
   ]
  },
  {
   "cell_type": "code",
   "execution_count": 21,
   "metadata": {},
   "outputs": [
    {
     "ename": "NameError",
     "evalue": "name 'BK' is not defined",
     "output_type": "error",
     "traceback": [
      "\u001b[0;31m---------------------------------------------------------------------------\u001b[0m",
      "\u001b[0;31mNameError\u001b[0m                                 Traceback (most recent call last)",
      "\u001b[0;32m<ipython-input-21-b2297b911022>\u001b[0m in \u001b[0;36m<module>\u001b[0;34m()\u001b[0m\n\u001b[0;32m----> 1\u001b[0;31m \u001b[0mre\u001b[0m \u001b[0;34m=\u001b[0m \u001b[0mnp\u001b[0m\u001b[0;34m.\u001b[0m\u001b[0mdot\u001b[0m\u001b[0;34m(\u001b[0m\u001b[0mpositions\u001b[0m\u001b[0;34m,\u001b[0m\u001b[0mnp\u001b[0m\u001b[0;34m.\u001b[0m\u001b[0mkron\u001b[0m\u001b[0;34m(\u001b[0m\u001b[0mBK\u001b[0m\u001b[0;34m,\u001b[0m\u001b[0mnp\u001b[0m\u001b[0;34m.\u001b[0m\u001b[0meye\u001b[0m\u001b[0;34m(\u001b[0m\u001b[0;36m2\u001b[0m\u001b[0;34m)\u001b[0m\u001b[0;34m)\u001b[0m\u001b[0;34m)\u001b[0m\u001b[0;34m\u001b[0m\u001b[0m\n\u001b[0m",
      "\u001b[0;31mNameError\u001b[0m: name 'BK' is not defined"
     ]
    }
   ],
   "source": [
    "re = np.dot(positions,np.kron(BK,np.eye(2)))"
   ]
  },
  {
   "cell_type": "code",
   "execution_count": 22,
   "metadata": {},
   "outputs": [
    {
     "ename": "NameError",
     "evalue": "name 're' is not defined",
     "output_type": "error",
     "traceback": [
      "\u001b[0;31m---------------------------------------------------------------------------\u001b[0m",
      "\u001b[0;31mNameError\u001b[0m                                 Traceback (most recent call last)",
      "\u001b[0;32m<ipython-input-22-e002995a7391>\u001b[0m in \u001b[0;36m<module>\u001b[0;34m()\u001b[0m\n\u001b[0;32m----> 1\u001b[0;31m \u001b[0mp\u001b[0m\u001b[0;34m=\u001b[0m\u001b[0mre\u001b[0m\u001b[0;34m.\u001b[0m\u001b[0mreshape\u001b[0m\u001b[0;34m(\u001b[0m\u001b[0;34m(\u001b[0m\u001b[0;36m45\u001b[0m\u001b[0;34m,\u001b[0m\u001b[0;36m2\u001b[0m\u001b[0;34m)\u001b[0m\u001b[0;34m)\u001b[0m\u001b[0;34m\u001b[0m\u001b[0m\n\u001b[0m\u001b[1;32m      2\u001b[0m \u001b[0ms\u001b[0m \u001b[0;34m=\u001b[0m \u001b[0mS_graph_rel\u001b[0m\u001b[0;34m(\u001b[0m\u001b[0mre\u001b[0m\u001b[0;34m,\u001b[0m\u001b[0;36m10\u001b[0m\u001b[0;34m,\u001b[0m\u001b[0;36m100\u001b[0m\u001b[0;34m)\u001b[0m\u001b[0;34m\u001b[0m\u001b[0m\n\u001b[1;32m      3\u001b[0m \u001b[0mq\u001b[0m \u001b[0;34m=\u001b[0m \u001b[0mdraw_graph\u001b[0m\u001b[0;34m(\u001b[0m\u001b[0ms\u001b[0m\u001b[0;34m,\u001b[0m\u001b[0mlabels\u001b[0m\u001b[0;34m=\u001b[0m\u001b[0;32mTrue\u001b[0m\u001b[0;34m)\u001b[0m\u001b[0;34m\u001b[0m\u001b[0m\n\u001b[1;32m      4\u001b[0m \u001b[0mlen\u001b[0m\u001b[0;34m(\u001b[0m\u001b[0ms\u001b[0m\u001b[0;34m)\u001b[0m\u001b[0;34m\u001b[0m\u001b[0m\n",
      "\u001b[0;31mNameError\u001b[0m: name 're' is not defined"
     ]
    }
   ],
   "source": [
    "p=re.reshape((45,2))\n",
    "s = S_graph_rel(re,10,100)\n",
    "q = draw_graph(s,labels=True)\n",
    "len(s)"
   ]
  },
  {
   "cell_type": "code",
   "execution_count": 23,
   "metadata": {},
   "outputs": [
    {
     "data": {
      "image/png": "[encoded data removed]",
      "text/plain": [
       "<Figure size 288x288 with 1 Axes>"
      ]
     },
     "execution_count": 23,
     "metadata": {},
     "output_type": "execute_result"
    }
   ],
   "source": [
    "p"
   ]
  },
  {
   "cell_type": "code",
   "execution_count": 24,
   "metadata": {},
   "outputs": [
    {
     "ename": "TypeError",
     "evalue": "'Figure' object does not support indexing",
     "output_type": "error",
     "traceback": [
      "\u001b[0;31m---------------------------------------------------------------------------\u001b[0m",
      "\u001b[0;31mTypeError\u001b[0m                                 Traceback (most recent call last)",
      "\u001b[0;32m<ipython-input-24-e1f760d65d53>\u001b[0m in \u001b[0;36m<module>\u001b[0;34m()\u001b[0m\n\u001b[0;32m----> 1\u001b[0;31m \u001b[0mnorm\u001b[0m\u001b[0;34m(\u001b[0m\u001b[0mp\u001b[0m\u001b[0;34m[\u001b[0m\u001b[0;36m9\u001b[0m\u001b[0;34m]\u001b[0m\u001b[0;34m)\u001b[0m\u001b[0;34m\u001b[0m\u001b[0m\n\u001b[0m",
      "\u001b[0;31mTypeError\u001b[0m: 'Figure' object does not support indexing"
     ]
    }
   ],
   "source": [
    "norm(p[9])"
   ]
  },
  {
   "cell_type": "code",
   "execution_count": 25,
   "metadata": {},
   "outputs": [
    {
     "ename": "ValueError",
     "evalue": "operands could not be broadcast together with shapes (2,) (0,) ",
     "output_type": "error",
     "traceback": [
      "\u001b[0;31m---------------------------------------------------------------------------\u001b[0m",
      "\u001b[0;31mValueError\u001b[0m                                Traceback (most recent call last)",
      "\u001b[0;32m<ipython-input-25-59f04d3d1e58>\u001b[0m in \u001b[0;36m<module>\u001b[0;34m()\u001b[0m\n\u001b[0;32m----> 1\u001b[0;31m \u001b[0mnp\u001b[0m\u001b[0;34m.\u001b[0m\u001b[0marray\u001b[0m\u001b[0;34m(\u001b[0m\u001b[0;34m[\u001b[0m\u001b[0;36m0.010596\u001b[0m\u001b[0;34m,\u001b[0m\u001b[0;36m1.9689\u001b[0m\u001b[0;34m]\u001b[0m\u001b[0;34m)\u001b[0m\u001b[0;34m-\u001b[0m\u001b[0mnp\u001b[0m\u001b[0;34m.\u001b[0m\u001b[0marray\u001b[0m\u001b[0;34m(\u001b[0m\u001b[0;34m[\u001b[0m\u001b[0;34m]\u001b[0m\u001b[0;34m)\u001b[0m\u001b[0;34m\u001b[0m\u001b[0m\n\u001b[0m",
      "\u001b[0;31mValueError\u001b[0m: operands could not be broadcast together with shapes (2,) (0,) "
     ]
    }
   ],
   "source": [
    "np.array([0.010596,1.9689])-np.array([])"
   ]
  },
  {
   "cell_type": "code",
   "execution_count": 26,
   "metadata": {},
   "outputs": [],
   "source": [
    "def stack(v):\n",
    "    if v.shape != (len(v),2):\n",
    "        print(\"Wrong shape need (any,2)\")\n",
    "        return -1\n",
    "    ret = np.zeros(2*len(v))\n",
    "    j=0\n",
    "    for i in range(0,len(v)):\n",
    "        ret[j] = v[i,0]\n",
    "        ret[j+1] = v[i,1]\n",
    "        j = j+2\n",
    "    return ret\n",
    "\n",
    "def unstack(v):\n",
    "    ret = np.zeros((int((len(v)/2)),2))\n",
    "    i=0\n",
    "    j=0\n",
    "    while i < len(v):\n",
    "        ret[j,0] = v[i]\n",
    "        ret[j,1] = v[i+1]\n",
    "        i = i+2\n",
    "        j = j+1\n",
    "    return ret\n",
    "\n",
    "def v_dot(v, r, v_graph, s_graph, R):\n",
    "    def grad_V(r1,r2,R=3):\n",
    "        r = norm(r1-r2)\n",
    "        if (r < 0 ):\n",
    "            return float('inf')\n",
    "        if(r<R):\n",
    "            return (r1-r2)*(-2**R**2)/(r**4)\n",
    "        else:\n",
    "            return (r1-r2)/(r*R)\n",
    "    #v = v.reshape((len(v_graph),2))\n",
    "    v_dot = np.zeros((len(v_graph),2))\n",
    "    dv = 0\n",
    "    for i in range(0,len(v_graph)):\n",
    "        for j in nx.neighbors(v_graph,i):\n",
    "            if (j != i):\n",
    "                dv = dv + (v[i]-v[j])\n",
    "        dV = 0\n",
    "        for k in range(0,len(v_graph)):\n",
    "            for l in nx.neighbors(s_graph,k):\n",
    "                if (l != k):\n",
    "                    dV = dV + grad_V(r[k],r[l],R=R)\n",
    "        v_dot[i] = v_dot[i] - dv - dV\n",
    "    return v_dot\n",
    "    #return v_dot.reshape((1,2*len(v)))\n",
    "\n",
    "def r_dot(v):\n",
    "    return v\n",
    "\n",
    "def V(r1,r2, R=3):\n",
    "    r = norm(r1-r2)\n",
    "    if (r < 0):\n",
    "        return float('inf')\n",
    "    if(r < R):\n",
    "        return (R**2)/(r**2)\n",
    "    else:\n",
    "        return r/R\n",
    "\n",
    "def grad_V(r1,r2,R=3):\n",
    "    r = norm(r1-r2)\n",
    "    if (r < 0 ):\n",
    "        return float('inf')\n",
    "    if(r<R):\n",
    "        return (r1-r2)*(-2**R**2)/(r**4)\n",
    "    else:\n",
    "        return (r1-r2)/(r*R)"
   ]
  },
  {
   "cell_type": "code",
   "execution_count": 27,
   "metadata": {},
   "outputs": [
    {
     "data": {
      "text/plain": [
       "array([1.86277621, 4.50517991, 3.0256721 , 2.98584083, 2.26239582,\n",
       "       1.67842316, 3.06097897, 0.75265869, 2.87150535, 2.85682365,\n",
       "       1.26778408, 0.76356749, 1.28746249, 1.07255493, 3.70873353,\n",
       "       1.44973937, 2.85427538, 1.00121721, 0.21380374, 0.92883303])"
      ]
     },
     "execution_count": 27,
     "metadata": {},
     "output_type": "execute_result"
    }
   ],
   "source": [
    "positions"
   ]
  },
  {
   "cell_type": "code",
   "execution_count": 28,
   "metadata": {},
   "outputs": [],
   "source": [
    "G = nx.watts_strogatz_graph(10,3,0.2)"
   ]
  },
  {
   "cell_type": "code",
   "execution_count": 31,
   "metadata": {},
   "outputs": [
    {
     "data": {
      "image/png": "[encoded data removed]",
      "text/plain": [
       "<Figure size 288x288 with 1 Axes>"
      ]
     },
     "metadata": {},
     "output_type": "display_data"
    }
   ],
   "source": [
    "x_max = y_max = 5\n",
    "positions = np.zeros((len(G)*2))\n",
    "velocities = np.zeros((len(G)*2))\n",
    "i=0\n",
    "while(i<len(G)*2):\n",
    "    positions[i],positions[i+1] = y_max*np.random.rand(2)\n",
    "    i= i+2\n",
    "    \n",
    "i=0\n",
    "while(i<len(G)*2):\n",
    "    velocities[i],velocities[i+1] = 8*np.random.rand(2)\n",
    "    if (np.random.rand(1)<0.5):\n",
    "        velocities[i] = -1*velocities[i]\n",
    "    if(np.random.rand(1)<0.5):\n",
    "        velocities[i+1] = -1*velocities[i+1]\n",
    "    i= i+2\n",
    "    \n",
    "d = 2\n",
    "S = S_graph_pos(positions.reshape((10,2)),d)\n",
    "\n",
    "G = nx.gnp_random_graph(10,0.75)\n",
    "\n",
    "T = 10\n",
    "dt=0.01\n",
    "t=0\n",
    "\n",
    "v_graph = G\n",
    "s_graph = S\n",
    "r = positions.reshape((10,2))\n",
    "v = velocities.reshape((10,2))\n",
    "\n",
    "p = draw_graph(S,fig_size=4)"
   ]
  },
  {
   "cell_type": "code",
   "execution_count": 32,
   "metadata": {},
   "outputs": [
    {
     "data": {
      "text/plain": [
       "array([[ 1.41564935, -6.4747533 ],\n",
       "       [-2.64263327,  4.001904  ],\n",
       "       [ 2.71877978,  6.76534418],\n",
       "       [ 5.72952066,  1.82668188],\n",
       "       [-7.0424586 , -7.79118548],\n",
       "       [-5.96373498,  5.12084968],\n",
       "       [ 7.96322042, -1.60913995],\n",
       "       [ 6.95671584, -3.34685717],\n",
       "       [-0.33628746, -2.24414593],\n",
       "       [ 6.3056367 , -1.30214389]])"
      ]
     },
     "execution_count": 32,
     "metadata": {},
     "output_type": "execute_result"
    }
   ],
   "source": [
    "v"
   ]
  },
  {
   "cell_type": "code",
   "execution_count": 33,
   "metadata": {},
   "outputs": [],
   "source": [
    "R = list()\n",
    "V = list()\n",
    "SG = list()\n",
    "VG = lsit()\n",
    "\n",
    "while t < T:\n",
    "    u = v\n",
    "    v = v + dt*v_dot(v,r,v_graph, s_graph, R=d)\n",
    "    r = r+dt*r_dot(u)\n",
    "    s_graph = S_graph_pos(r, R=d)\n",
    "    v_graph = S_graph_pos(r,R=d)\n",
    "    R.append(r)\n",
    "    V.append(v)\n",
    "    SG.append(s_graph)\n",
    "    VG.append(v_graph)\n",
    "    t = t+dt"
   ]
  },
  {
   "cell_type": "code",
   "execution_count": 39,
   "metadata": {},
   "outputs": [
    {
     "data": {
      "text/plain": [
       "array([[-1.16439342e+00,  1.25166562e-03],\n",
       "       [-1.16439359e+00,  1.25517591e-03],\n",
       "       [ 6.30563980e+00, -1.30215383e+00],\n",
       "       [ 6.44884655e+00, -5.70467702e+00],\n",
       "       [-1.57635332e+00, -7.16940696e+00],\n",
       "       [-1.16439267e+00,  1.25309066e-03],\n",
       "       [ 7.50147196e+00, -4.24204057e+00],\n",
       "       [ 4.56632146e+00, -2.80224804e+00],\n",
       "       [-1.16439251e+00,  1.24958674e-03],\n",
       "       [ 6.30563670e+00, -1.30214389e+00]])"
      ]
     },
     "execution_count": 39,
     "metadata": {},
     "output_type": "execute_result"
    }
   ],
   "source": [
    "V[-1]"
   ]
  },
  {
   "cell_type": "code",
   "execution_count": 38,
   "metadata": {},
   "outputs": [
    {
     "data": {
      "image/png": "[encoded data removed]",
      "text/plain": [
       "<Figure size 432x288 with 1 Axes>"
      ]
     },
     "metadata": {},
     "output_type": "display_data"
    }
   ],
   "source": [
    "os.chdir(\"Notes/\")\n",
    "for i in range(0,100):\n",
    "    f = update_frame(V,R,SG,VG,i)\n",
    "    f.savefig('sim_pic/'+str(i)+'.png')\n",
    "    plt.cla()"
   ]
  },
  {
   "cell_type": "code",
   "execution_count": 36,
   "metadata": {},
   "outputs": [],
   "source": [
    "def update_frame(V,R,SG,VG,i):\n",
    "    fig = plt.figure(1)\n",
    "    norms = np.zeros(V[i].shape[0])\n",
    "    unit = np.zeros(V[i].shape)\n",
    "    for j in range(0,V[i].shape[0]):\n",
    "        norms[j] = norm(V[i][j])\n",
    "        unit[j] = V[i][j]/norms[j]\n",
    "    rel = np.zeros(V[i].shape)\n",
    "    for j in range(0,V[i].shape[0]):\n",
    "        rel[j] = unit[j]*(norm(V[i][j])/max(norms))\n",
    "\n",
    "    for j in range(0,10):\n",
    "        plt.arrow(R[i][j,0],R[i][j,1],rel[j,0],rel[j,1],\n",
    "                  width=.1,\n",
    "                  edgecolor='green',\n",
    "                  facecolor='green')\n",
    "\n",
    "\n",
    "    nx.draw_networkx(SG[i], pos=R[i], edge_color='black', width=2.5, node_size=25, with_labels=False)\n",
    "    nx.draw_networkx(VG, pos=R[i], edge_color='blue', width=0.5, node_size=25, with_labels=False)\n",
    "\n",
    "\n",
    "    plt.xlim(plt.xlim()[0]-np.abs(unit[0,0]),plt.xlim()[1]+np.abs(unit[0,0]))\n",
    "    plt.ylim(plt.ylim()[0]-np.abs(unit[0,1]), plt.ylim()[1]+np.abs(unit[0,1]))\n",
    "    \n",
    "    speed = np.zeros(V[i].shape[0])\n",
    "    for j in range(0,V[i].shape[0]):\n",
    "        speed[j] = norm(V[i][j])\n",
    "    \n",
    "    plt.title(\"Mean speed: {0} u/s \\n Simulation Time {1} s\".format(np.round(np.mean(speed),2), i*dt))\n",
    "\n",
    "    return fig"
   ]
  },
  {
   "cell_type": "code",
   "execution_count": 85,
   "metadata": {
    "scrolled": false
   },
   "outputs": [
    {
     "data": {
      "image/png": "[encoded data removed]",
      "text/plain": [
       "<Figure size 432x288 with 1 Axes>"
      ]
     },
     "metadata": {},
     "output_type": "display_data"
    }
   ],
   "source": []
  },
  {
   "cell_type": "code",
   "execution_count": 42,
   "metadata": {},
   "outputs": [
    {
     "ename": "AttributeError",
     "evalue": "'function' object has no attribute 'help'",
     "output_type": "error",
     "traceback": [
      "\u001b[0;31m---------------------------------------------------------------------------\u001b[0m",
      "\u001b[0;31mAttributeError\u001b[0m                            Traceback (most recent call last)",
      "\u001b[0;32m<ipython-input-42-ee0d983ddf39>\u001b[0m in \u001b[0;36m<module>\u001b[0;34m()\u001b[0m\n\u001b[0;32m----> 1\u001b[0;31m \u001b[0mimageio\u001b[0m\u001b[0;34m.\u001b[0m\u001b[0mmimwrite\u001b[0m\u001b[0;34m.\u001b[0m\u001b[0mhelp\u001b[0m\u001b[0;34m\u001b[0m\u001b[0m\n\u001b[0m",
      "\u001b[0;31mAttributeError\u001b[0m: 'function' object has no attribute 'help'"
     ]
    }
   ],
   "source": [
    "imageio.mimwrite"
   ]
  },
  {
   "cell_type": "code",
   "execution_count": 140,
   "metadata": {},
   "outputs": [],
   "source": [
    "import imageio\n",
    "import os\n",
    "ids = list()\n",
    "for i in range(0,100):\n",
    "    ids.append('sim_pic/'+str(i)+'.png')\n",
    "\n",
    "images = []\n",
    "for i in ids:\n",
    "    images.append(imageio.imread(i))\n",
    "imageio.mimsave('../Data/movie.gif', images, 'GIF', duration=0.05)"
   ]
  },
  {
   "cell_type": "code",
   "execution_count": 161,
   "metadata": {
    "scrolled": true
   },
   "outputs": [
    {
     "data": {
      "text/plain": [
       "<Figure size 432x288 with 0 Axes>"
      ]
     },
     "metadata": {},
     "output_type": "display_data"
    }
   ],
   "source": [
    "import matplotlib.animation as animation\n",
    "\n",
    "fig = plt.figure()\n",
    "\n",
    "ims = []\n",
    "for i in range(0,100):\n",
    "    if (i % 10 == 0):\n",
    "        unit = np.zeros(V[i].shape)\n",
    "        for j in range(0,len(V[i])):\n",
    "            unit[j] = V[i][j]/norm(V[i][j])\n",
    "\n",
    "        for j in range(0,10):\n",
    "            plt.arrow(R[i][j,0],R[i][j,1],unit[j,0],unit[j,1],\n",
    "                      width=.1,\n",
    "                      edgecolor='green',\n",
    "                      facecolor='green')\n",
    "\n",
    "\n",
    "        nx.draw_networkx(SG[i], pos=R[i], edge_color='r', width=5)\n",
    "        nx.draw_networkx(VG, pos=R[i], edge_color='black', width=2.5)\n",
    "\n",
    "\n",
    "        plt.xlim(plt.xlim()[0]-unit[0,0],plt.xlim()[1]+unit[0,0])\n",
    "        plt.ylim(plt.ylim()[0]-unit[0,1], plt.ylim()[1]+unit[0,1])\n",
    "\n",
    "        fig.canvas.draw()\n",
    "        X = np.array(fig.canvas.renderer._renderer)\n",
    "        im = plt.imshow(X)\n",
    "        ims.append([im])\n",
    "        plt.cla()\n",
    "\n",
    "\n",
    "ani = animation.ArtistAnimation(fig, ims, interval=50, blit=True,\n",
    "                                repeat_delay=1000)\n",
    "\n",
    "\n",
    "from matplotlib.animation import FFMpegWriter\n",
    "writer = FFMpegWriter(fps=15, metadata=dict(artist='Me'), bitrate=1800)\n",
    "ani.save(\"movie.mp4\", writer=writer)"
   ]
  },
  {
   "cell_type": "code",
   "execution_count": 76,
   "metadata": {},
   "outputs": [
    {
     "ename": "TypeError",
     "evalue": "'numpy.float64' object cannot be interpreted as an integer",
     "output_type": "error",
     "traceback": [
      "\u001b[0;31m---------------------------------------------------------------------------\u001b[0m",
      "\u001b[0;31mTypeError\u001b[0m                                 Traceback (most recent call last)",
      "\u001b[0;32m<ipython-input-76-fc6b1feeb03a>\u001b[0m in \u001b[0;36m<module>\u001b[0;34m()\u001b[0m\n\u001b[0;32m----> 1\u001b[0;31m \u001b[0mimage\u001b[0m\u001b[0;34m.\u001b[0m\u001b[0mreshape\u001b[0m\u001b[0;34m(\u001b[0m\u001b[0;34m(\u001b[0m\u001b[0mwidth\u001b[0m\u001b[0;34m,\u001b[0m\u001b[0mheight\u001b[0m\u001b[0;34m,\u001b[0m\u001b[0;36m3\u001b[0m\u001b[0;34m)\u001b[0m\u001b[0;34m)\u001b[0m\u001b[0;34m\u001b[0m\u001b[0m\n\u001b[0m",
      "\u001b[0;31mTypeError\u001b[0m: 'numpy.float64' object cannot be interpreted as an integer"
     ]
    }
   ],
   "source": [
    "image.reshape((width,height,3))"
   ]
  },
  {
   "cell_type": "code",
   "execution_count": 176,
   "metadata": {},
   "outputs": [
    {
     "ename": "IndexError",
     "evalue": "index 10 is out of bounds for axis 0 with size 10",
     "output_type": "error",
     "traceback": [
      "\u001b[0;31m---------------------------------------------------------------------------\u001b[0m",
      "\u001b[0;31mIndexError\u001b[0m                                Traceback (most recent call last)",
      "\u001b[0;32m<ipython-input-176-e288fe582cf1>\u001b[0m in \u001b[0;36m<module>\u001b[0;34m()\u001b[0m\n\u001b[1;32m      5\u001b[0m \u001b[0;34m\u001b[0m\u001b[0m\n\u001b[1;32m      6\u001b[0m \u001b[0;32mfor\u001b[0m \u001b[0mi\u001b[0m \u001b[0;32min\u001b[0m \u001b[0mrange\u001b[0m\u001b[0;34m(\u001b[0m\u001b[0;36m0\u001b[0m\u001b[0;34m,\u001b[0m\u001b[0;36m100\u001b[0m\u001b[0;34m)\u001b[0m\u001b[0;34m:\u001b[0m\u001b[0;34m\u001b[0m\u001b[0m\n\u001b[0;32m----> 7\u001b[0;31m     plt.arrow(r[i,0],r[i,1],unit[i,0],unit[i,1],\n\u001b[0m\u001b[1;32m      8\u001b[0m               \u001b[0mwidth\u001b[0m\u001b[0;34m=\u001b[0m\u001b[0;36m.1\u001b[0m\u001b[0;34m,\u001b[0m\u001b[0;34m\u001b[0m\u001b[0m\n\u001b[1;32m      9\u001b[0m               \u001b[0medgecolor\u001b[0m\u001b[0;34m=\u001b[0m\u001b[0;34m'green'\u001b[0m\u001b[0;34m,\u001b[0m\u001b[0;34m\u001b[0m\u001b[0m\n",
      "\u001b[0;31mIndexError\u001b[0m: index 10 is out of bounds for axis 0 with size 10"
     ]
    },
    {
     "data": {
      "image/png": "[encoded data removed]",
      "text/plain": [
       "<Figure size 432x288 with 1 Axes>"
      ]
     },
     "metadata": {},
     "output_type": "display_data"
    }
   ],
   "source": [
    "unit = np.zeros(v.shape)\n",
    "for i in range(0,len(v)):\n",
    "    unit[i] = v[i]/norm(v[i])\n",
    "\n",
    "\n",
    "for i in range(0,10):\n",
    "    plt.arrow(r[i,0],r[i,1],unit[i,0],unit[i,1],\n",
    "              width=.1,\n",
    "              edgecolor='green',\n",
    "              facecolor='green')\n",
    "    \n",
    "\n",
    "    nx.draw_networkx(s_graph, pos=r, edge_color='r', width=5)\n",
    "    nx.draw_networkx(v_graph, pos=r, edge_color='black', width=2.5)\n",
    "\n",
    "    plt.xlim(plt.xlim()[0]-unit[0,0],plt.xlim()[1]+unit[0,0])\n",
    "    plt.ylim(plt.ylim()[0]-unit[0,1], plt.ylim()[1]+unit[0,1])"
   ]
  },
  {
   "cell_type": "code",
   "execution_count": 773,
   "metadata": {},
   "outputs": [
    {
     "data": {
      "text/plain": [
       "array([[11.6178834 , 16.82326793],\n",
       "       [ 8.21081087, 20.97450117],\n",
       "       [11.03134134, 18.07299392],\n",
       "       [10.47557443, 19.50011206],\n",
       "       [ 8.07940133, 17.86088501],\n",
       "       [ 8.469207  , 18.87242446],\n",
       "       [ 8.97656978, 16.57675374],\n",
       "       [11.61233867, 19.19752416],\n",
       "       [ 8.61166422, 16.53934395],\n",
       "       [ 7.35830903, 20.54549009]])"
      ]
     },
     "execution_count": 773,
     "metadata": {},
     "output_type": "execute_result"
    }
   ],
   "source": [
    "r+unit"
   ]
  },
  {
   "cell_type": "code",
   "execution_count": 735,
   "metadata": {},
   "outputs": [
    {
     "data": {
      "text/plain": [
       "array([[4.1713068 , 0.91813427],\n",
       "       [0.97396728, 4.85186166],\n",
       "       [3.72728247, 1.90933124],\n",
       "       [3.15961453, 3.42721454],\n",
       "       [0.76077245, 1.77322941],\n",
       "       [1.18878545, 2.57583381],\n",
       "       [1.4727141 , 0.64003011],\n",
       "       [4.44526626, 3.06014689],\n",
       "       [1.25423651, 0.49133175],\n",
       "       [0.0385735 , 4.4077663 ]])"
      ]
     },
     "execution_count": 735,
     "metadata": {},
     "output_type": "execute_result"
    }
   ],
   "source": [
    "positions.reshape(10,2)"
   ]
  },
  {
   "cell_type": "code",
   "execution_count": 802,
   "metadata": {},
   "outputs": [
    {
     "data": {
      "text/plain": [
       "<matplotlib.patches.FancyArrow at 0x7ff3dc18b710>"
      ]
     },
     "execution_count": 802,
     "metadata": {},
     "output_type": "execute_result"
    },
    {
     "data": {
      "image/png": "[encoded data removed]",
      "text/plain": [
       "<Figure size 432x288 with 1 Axes>"
      ]
     },
     "metadata": {},
     "output_type": "display_data"
    }
   ],
   "source": [
    "plt.arrow(1,1,2,2, width=.15,edgecolor=None, facecolor='black')"
   ]
  },
  {
   "cell_type": "code",
   "execution_count": 276,
   "metadata": {},
   "outputs": [
    {
     "data": {
      "text/plain": [
       "array([[0.9959915 , 0.78822563, 1.15127203, 1.12897428, 1.27558316,\n",
       "        0.24665442, 0.86674908, 1.57417972, 0.54896427, 0.12964408,\n",
       "        0.82305116, 1.42658465, 1.16794972, 1.51903638, 0.66539465,\n",
       "        0.42100074, 1.40954961, 0.6916389 , 0.25997836, 1.17899304]])"
      ]
     },
     "execution_count": 276,
     "metadata": {},
     "output_type": "execute_result"
    }
   ],
   "source": [
    "velocities"
   ]
  },
  {
   "cell_type": "code",
   "execution_count": 277,
   "metadata": {},
   "outputs": [
    {
     "name": "stdout",
     "output_type": "stream",
     "text": [
      "0\n"
     ]
    },
    {
     "ename": "IndexError",
     "evalue": "index 0 is out of bounds for axis 0 with size 0",
     "output_type": "error",
     "traceback": [
      "\u001b[0;31m---------------------------------------------------------------------------\u001b[0m",
      "\u001b[0;31mIndexError\u001b[0m                                Traceback (most recent call last)",
      "\u001b[0;32m<ipython-input-277-fb2fa0544336>\u001b[0m in \u001b[0;36m<module>\u001b[0;34m()\u001b[0m\n\u001b[0;32m----> 1\u001b[0;31m \u001b[0munstack\u001b[0m\u001b[0;34m(\u001b[0m\u001b[0mv\u001b[0m\u001b[0;34m)\u001b[0m\u001b[0;34m\u001b[0m\u001b[0m\n\u001b[0m",
      "\u001b[0;32m<ipython-input-272-270a1b11391d>\u001b[0m in \u001b[0;36munstack\u001b[0;34m(v)\u001b[0m\n\u001b[1;32m     17\u001b[0m     \u001b[0;32mwhile\u001b[0m \u001b[0mi\u001b[0m \u001b[0;34m<\u001b[0m \u001b[0mlen\u001b[0m\u001b[0;34m(\u001b[0m\u001b[0mv\u001b[0m\u001b[0;34m)\u001b[0m\u001b[0;34m:\u001b[0m\u001b[0;34m\u001b[0m\u001b[0m\n\u001b[1;32m     18\u001b[0m         \u001b[0mprint\u001b[0m\u001b[0;34m(\u001b[0m\u001b[0mj\u001b[0m\u001b[0;34m)\u001b[0m\u001b[0;34m\u001b[0m\u001b[0m\n\u001b[0;32m---> 19\u001b[0;31m         \u001b[0mret\u001b[0m\u001b[0;34m[\u001b[0m\u001b[0mj\u001b[0m\u001b[0;34m,\u001b[0m\u001b[0;36m0\u001b[0m\u001b[0;34m]\u001b[0m \u001b[0;34m=\u001b[0m \u001b[0mv\u001b[0m\u001b[0;34m[\u001b[0m\u001b[0mi\u001b[0m\u001b[0;34m]\u001b[0m\u001b[0;34m\u001b[0m\u001b[0m\n\u001b[0m\u001b[1;32m     20\u001b[0m         \u001b[0mret\u001b[0m\u001b[0;34m[\u001b[0m\u001b[0mj\u001b[0m\u001b[0;34m,\u001b[0m\u001b[0;36m1\u001b[0m\u001b[0;34m]\u001b[0m \u001b[0;34m=\u001b[0m \u001b[0mv\u001b[0m\u001b[0;34m[\u001b[0m\u001b[0mi\u001b[0m\u001b[0;34m+\u001b[0m\u001b[0;36m1\u001b[0m\u001b[0;34m]\u001b[0m\u001b[0;34m\u001b[0m\u001b[0m\n\u001b[1;32m     21\u001b[0m         \u001b[0mi\u001b[0m \u001b[0;34m=\u001b[0m \u001b[0mi\u001b[0m\u001b[0;34m+\u001b[0m\u001b[0;36m2\u001b[0m\u001b[0;34m\u001b[0m\u001b[0m\n",
      "\u001b[0;31mIndexError\u001b[0m: index 0 is out of bounds for axis 0 with size 0"
     ]
    }
   ],
   "source": [
    "unstack(v)"
   ]
  },
  {
   "cell_type": "code",
   "execution_count": 282,
   "metadata": {},
   "outputs": [
    {
     "data": {
      "text/plain": [
       "array([[0.9959915 , 0.78822563, 1.15127203, 1.12897428, 1.27558316,\n",
       "        0.24665442, 0.86674908, 1.57417972, 0.54896427, 0.12964408,\n",
       "        0.82305116, 1.42658465, 1.16794972, 1.51903638, 0.66539465,\n",
       "        0.42100074, 1.40954961, 0.6916389 , 0.25997836, 1.17899304]])"
      ]
     },
     "execution_count": 282,
     "metadata": {},
     "output_type": "execute_result"
    }
   ],
   "source": [
    "v"
   ]
  },
  {
   "cell_type": "code",
   "execution_count": 295,
   "metadata": {},
   "outputs": [
    {
     "data": {
      "text/plain": [
       "NodeView((0, 1, 2, 3, 4, 5, 6, 7, 8, 9))"
      ]
     },
     "execution_count": 295,
     "metadata": {},
     "output_type": "execute_result"
    }
   ],
   "source": [
    "G.nodes"
   ]
  },
  {
   "cell_type": "code",
   "execution_count": 331,
   "metadata": {},
   "outputs": [
    {
     "data": {
      "text/plain": [
       "[<matplotlib.lines.Line2D at 0x7ff397cbea90>]"
      ]
     },
     "execution_count": 331,
     "metadata": {},
     "output_type": "execute_result"
    },
    {
     "data": {
      "image/png": "[encoded data removed]",
      "text/plain": [
       "<Figure size 432x288 with 1 Axes>"
      ]
     },
     "metadata": {},
     "output_type": "display_data"
    }
   ],
   "source": [
    "x = np.linspace(0.5,5,100)\n",
    "y = np.zeros(len(x))\n",
    "for i in range(0,len(x)):\n",
    "    y[i] = V(x[i],0)\n",
    "plt.plot(x,y)"
   ]
  },
  {
   "cell_type": "code",
   "execution_count": 326,
   "metadata": {},
   "outputs": [
    {
     "data": {
      "text/plain": [
       "1.0"
      ]
     },
     "execution_count": 326,
     "metadata": {},
     "output_type": "execute_result"
    }
   ],
   "source": [
    "norm(1-0)"
   ]
  },
  {
   "cell_type": "code",
   "execution_count": 838,
   "metadata": {},
   "outputs": [
    {
     "data": {
      "text/plain": [
       "(array([0.41307351, 0.91069769]), array([0.41307351, 0.91069769]))"
      ]
     },
     "execution_count": 838,
     "metadata": {},
     "output_type": "execute_result"
    }
   ],
   "source": [
    "unit[2], unit[1]"
   ]
  },
  {
   "cell_type": "code",
   "execution_count": 843,
   "metadata": {},
   "outputs": [
    {
     "name": "stdout",
     "output_type": "stream",
     "text": [
      "True\n"
     ]
    }
   ],
   "source": [
    "ref = np.angle(complex(unit[1,0],unit[1,1]))\n",
    "f = True\n",
    "tol=1e-6\n",
    "for i in range(0,len(unit)):\n",
    "    if (np.abs(ref - np.angle(complex(unit[i,0],unit[i,1])))>tol):\n",
    "        f = False\n",
    "print(f)\n",
    "    "
   ]
  },
  {
   "cell_type": "code",
   "execution_count": 1,
   "metadata": {},
   "outputs": [],
   "source": [
    "def velocity_angle_agreement(v,tol=1e-6):\n",
    "    unit = np.zeros(v.shape)\n",
    "    for i in range(0,len(v)):\n",
    "        unit[i] = v[i]/norm(v[i])\n",
    "    ref = np.angle(complex(unit[1,0],unit[1,1]))\n",
    "    for i in range(0,len(unit)):\n",
    "        if (np.abs(ref - np.angle(complex(unit[i,0],unit[i,1])))>tol):\n",
    "            return False\n",
    "    return True"
   ]
  },
  {
   "cell_type": "code",
   "execution_count": 1,
   "metadata": {},
   "outputs": [],
   "source": [
    "import os\n",
    "os.chdir(\"../\")\n",
    "from Flocking_2D import *\n",
    "\n",
    "import numpy as np\n",
    "import matplotlib.pyplot as plt\n",
    "%matplotlib inline\n",
    "import networkx as nx\n",
    "import time\n",
    "from numpy.linalg import eigvals, norm\n",
    "import pickle\n",
    "\n",
    "from graph_utils import *\n",
    "\n",
    "def v_dot(v, r, v_graph, s_graph,R, *args):\n",
    "    def grad_V(r1,r2,R=3):\n",
    "        r = norm(r1-r2)\n",
    "        if (r < 0 ):\n",
    "            return float('inf')\n",
    "        if(r<R):\n",
    "            return (r1-r2)*(-2**R**2)/(r**4)\n",
    "        else:\n",
    "            return (r1-r2)/(r*R)\n",
    "    #v = v.reshape((len(v_graph),2))\n",
    "    v_dot = np.zeros((len(v_graph),2))\n",
    "    dv = 0\n",
    "    for i in range(0,len(v_graph)):\n",
    "        for j in nx.neighbors(v_graph,i):\n",
    "            if (j != i):\n",
    "                dv = dv + (v[i]-v[j])\n",
    "        dV = 0\n",
    "        for k in range(0,len(v_graph)):\n",
    "            for l in nx.neighbors(s_graph,k):\n",
    "                if (l != k):\n",
    "                    dV = dV + grad_V(r[k],r[l],R)\n",
    "        v_dot[i] = v_dot[i] - dv - dV\n",
    "    return v_dot\n",
    "    #return v_dot.reshape((1,2*len(v)))\n",
    "\n",
    "def r_dot(v, *args):\n",
    "    return v"
   ]
  },
  {
   "cell_type": "code",
   "execution_count": 9,
   "metadata": {},
   "outputs": [
    {
     "data": {
      "image/png": "[encoded data removed]",
      "text/plain": [
       "<Figure size 288x288 with 1 Axes>"
      ]
     },
     "metadata": {},
     "output_type": "display_data"
    }
   ],
   "source": [
    "G = nx.gnp_random_graph(10,0.5)\n",
    "#G = nx.watts_strogatz_graph(10,3,0.5)\n",
    "p = draw_graph(G,fig_size=4)"
   ]
  },
  {
   "cell_type": "code",
   "execution_count": 10,
   "metadata": {},
   "outputs": [
    {
     "name": "stdout",
     "output_type": "stream",
     "text": [
      "Argument Error: position_dynamics_args must be np.ndarray type\n",
      "Argument Error: velocity_dynamics_args must be np.ndarray type\n"
     ]
    }
   ],
   "source": [
    "FS = Flock_Simulation(G,r_dot,v_dot)"
   ]
  },
  {
   "cell_type": "code",
   "execution_count": 11,
   "metadata": {},
   "outputs": [
    {
     "data": {
      "text/plain": [
       "array([[-3.07675487,  1.94874609],\n",
       "       [ 6.96187177,  3.76209585],\n",
       "       [ 4.75343495, -3.05464422],\n",
       "       [ 3.60872807, -5.87778476],\n",
       "       [-0.09195762, -5.64672782],\n",
       "       [ 7.95497117,  2.33782372],\n",
       "       [-4.743056  , -2.2777004 ],\n",
       "       [-3.87974392,  3.47316602],\n",
       "       [ 1.65747406, -3.83798452],\n",
       "       [-4.99121725,  6.11376195]])"
      ]
     },
     "execution_count": 11,
     "metadata": {},
     "output_type": "execute_result"
    }
   ],
   "source": [
    "FS.v"
   ]
  },
  {
   "cell_type": "code",
   "execution_count": 12,
   "metadata": {},
   "outputs": [
    {
     "data": {
      "image/png": "[encoded data removed]",
      "text/plain": [
       "<Figure size 432x288 with 1 Axes>"
      ]
     },
     "metadata": {},
     "output_type": "display_data"
    }
   ],
   "source": [
    "FS.plot()"
   ]
  },
  {
   "cell_type": "code",
   "execution_count": 13,
   "metadata": {},
   "outputs": [
    {
     "data": {
      "text/plain": [
       "array([[1.56485977, 4.66159881],\n",
       "       [0.68686821, 0.5760674 ],\n",
       "       [2.1244994 , 3.94759155],\n",
       "       [3.16976621, 2.4911195 ],\n",
       "       [4.33414191, 3.80269489],\n",
       "       [1.04715509, 0.74414239],\n",
       "       [0.19013712, 0.9145334 ],\n",
       "       [2.56973221, 2.45766315],\n",
       "       [0.19688208, 1.22787632],\n",
       "       [1.38875164, 2.13880902]])"
      ]
     },
     "execution_count": 13,
     "metadata": {},
     "output_type": "execute_result"
    }
   ],
   "source": [
    "FS.r"
   ]
  },
  {
   "cell_type": "code",
   "execution_count": 14,
   "metadata": {},
   "outputs": [
    {
     "name": "stdout",
     "output_type": "stream",
     "text": [
      "2.450620412826538\n"
     ]
    }
   ],
   "source": [
    "FS.run_sim()"
   ]
  },
  {
   "cell_type": "code",
   "execution_count": 15,
   "metadata": {},
   "outputs": [
    {
     "data": {
      "image/png": "[encoded data removed]",
      "text/plain": [
       "<Figure size 432x288 with 1 Axes>"
      ]
     },
     "metadata": {},
     "output_type": "display_data"
    }
   ],
   "source": [
    "FS.plot()"
   ]
  },
  {
   "cell_type": "code",
   "execution_count": 9,
   "metadata": {},
   "outputs": [],
   "source": [
    "r = np.zeros((5,2))\n",
    "for i in range(0,5):\n",
    "    r[i] = 5*np.random.rand(2)"
   ]
  },
  {
   "cell_type": "code",
   "execution_count": 10,
   "metadata": {},
   "outputs": [
    {
     "data": {
      "text/plain": [
       "array([[1.77816332, 2.52887365],\n",
       "       [3.78330912, 2.66989089],\n",
       "       [2.02796301, 0.44861403],\n",
       "       [3.09643337, 2.23638297],\n",
       "       [3.1714566 , 0.67898493]])"
      ]
     },
     "execution_count": 10,
     "metadata": {},
     "output_type": "execute_result"
    }
   ],
   "source": [
    "r"
   ]
  },
  {
   "cell_type": "code",
   "execution_count": 16,
   "metadata": {},
   "outputs": [
    {
     "data": {
      "text/plain": [
       "array([ 4.6266365 , -1.11736781])"
      ]
     },
     "execution_count": 16,
     "metadata": {},
     "output_type": "execute_result"
    }
   ],
   "source": [
    "5*np.random.randn(2)"
   ]
  },
  {
   "cell_type": "code",
   "execution_count": null,
   "metadata": {},
   "outputs": [],
   "source": []
  }
 ],
 "metadata": {
  "kernelspec": {
   "display_name": "Python 3",
   "language": "python",
   "name": "python3"
  },
  "language_info": {
   "codemirror_mode": {
    "name": "ipython",
    "version": 3
   },
   "file_extension": ".py",
   "mimetype": "text/x-python",
   "name": "python",
   "nbconvert_exporter": "python",
   "pygments_lexer": "ipython3",
   "version": "3.5.2"
  }
 },
 "nbformat": 4,
 "nbformat_minor": 2
}
